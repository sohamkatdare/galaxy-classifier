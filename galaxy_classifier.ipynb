{
  "cells": [
    {
      "cell_type": "markdown",
      "metadata": {
        "id": "view-in-github",
        "colab_type": "text"
      },
      "source": [
        "<a href=\"https://colab.research.google.com/github/sohamkatdare/galaxy-classifier/blob/main/galaxy_classifier.ipynb\" target=\"_parent\"><img src=\"https://colab.research.google.com/assets/colab-badge.svg\" alt=\"Open In Colab\"/></a>"
      ]
    },
    {
      "cell_type": "code",
      "execution_count": null,
      "metadata": {
        "id": "EfGwQt4o44LG"
      },
      "outputs": [],
      "source": [
        "import torch\n",
        "from torch import nn\n",
        "\n",
        "import matplotlib.pyplot as plt\n",
        "import torchvision\n",
        "\n",
        "import numpy as np\n",
        "import pandas as pd\n",
        "# from astroNN.datasets import load_galaxy10\n",
        "from tqdm.auto import tqdm\n",
        "\n",
        "from torch.utils.data import Dataset, DataLoader\n",
        "import torchvision.transforms.v2 as transforms\n",
        "\n",
        "from torchsummary import summary\n",
        "import zipfile\n",
        "\n",
        "import os\n",
        "import cv2\n",
        "import gc\n",
        "import albumentations as A"
      ]
    },
    {
      "cell_type": "code",
      "execution_count": null,
      "metadata": {
        "colab": {
          "base_uri": "https://localhost:8080/"
        },
        "id": "7ZDzJnem5Uiw",
        "outputId": "47c4aba6-a63d-4af0-aa6f-6a9bad329826"
      },
      "outputs": [
        {
          "name": "stdout",
          "output_type": "stream",
          "text": [
            "\n",
            "WARNING: apt does not have a stable CLI interface. Use with caution in scripts.\n",
            "\n",
            "debconf: unable to initialize frontend: Dialog\n",
            "debconf: (No usable dialog-like program is installed, so the dialog based frontend cannot be used. at /usr/share/perl5/Debconf/FrontEnd/Dialog.pm line 78, <> line 1.)\n",
            "debconf: falling back to frontend: Readline\n",
            "debconf: unable to initialize frontend: Readline\n",
            "debconf: (This frontend requires a controlling tty.)\n",
            "debconf: falling back to frontend: Teletype\n",
            "dpkg-preconfigure: unable to re-open stdin: \n",
            "/usr/bin/xdg-open: 882: www-browser: not found\n",
            "/usr/bin/xdg-open: 882: links2: not found\n",
            "/usr/bin/xdg-open: 882: elinks: not found\n",
            "/usr/bin/xdg-open: 882: links: not found\n",
            "/usr/bin/xdg-open: 882: lynx: not found\n",
            "/usr/bin/xdg-open: 882: w3m: not found\n",
            "xdg-open: no method available for opening 'https://accounts.google.com/o/oauth2/auth?client_id=564921029129.apps.googleusercontent.com&redirect_uri=https%3A%2F%2Fgd-ocaml-auth.appspot.com%2Foauth2callback&scope=https%3A%2F%2Fwww.googleapis.com%2Fauth%2Fdrive&response_type=code&access_type=offline&approval_prompt=force&state=1ZG93SgKEKlUc5PRpJ2855Mmusk7zffzqfaxwmxeXNQ'\n",
            "/bin/sh: 1: firefox: not found\n",
            "/bin/sh: 1: google-chrome: not found\n",
            "/bin/sh: 1: chromium-browser: not found\n",
            "/usr/bin/open: 882: www-browser: not found\n",
            "/usr/bin/open: 882: links2: not found\n",
            "/usr/bin/open: 882: elinks: not found\n",
            "/usr/bin/open: 882: links: not found\n",
            "/usr/bin/open: 882: lynx: not found\n",
            "/usr/bin/open: 882: w3m: not found\n",
            "xdg-open: no method available for opening 'https://accounts.google.com/o/oauth2/auth?client_id=564921029129.apps.googleusercontent.com&redirect_uri=https%3A%2F%2Fgd-ocaml-auth.appspot.com%2Foauth2callback&scope=https%3A%2F%2Fwww.googleapis.com%2Fauth%2Fdrive&response_type=code&access_type=offline&approval_prompt=force&state=1ZG93SgKEKlUc5PRpJ2855Mmusk7zffzqfaxwmxeXNQ'\n",
            "Cannot retrieve auth tokens.\n",
            "Failure(\"Error opening URL:https://accounts.google.com/o/oauth2/auth?client_id=564921029129.apps.googleusercontent.com&redirect_uri=https%3A%2F%2Fgd-ocaml-auth.appspot.com%2Foauth2callback&scope=https%3A%2F%2Fwww.googleapis.com%2Fauth%2Fdrive&response_type=code&access_type=offline&approval_prompt=force&state=1ZG93SgKEKlUc5PRpJ2855Mmusk7zffzqfaxwmxeXNQ\")\n"
          ]
        }
      ],
      "source": [
        "!sudo add-apt-repository -y ppa:alessandro-strada/ppa 2>&1 > /dev/null\n",
        "!sudo apt-get update -qq 2>&1 > /dev/null\n",
        "!sudo apt -y install -qq google-drive-ocamlfuse 2>&1 > /dev/null\n",
        "!google-drive-ocamlfuse"
      ]
    },
    {
      "cell_type": "code",
      "execution_count": null,
      "metadata": {
        "colab": {
          "base_uri": "https://localhost:8080/"
        },
        "id": "LZQSlUhd48gD",
        "outputId": "c733f1cc-717d-40ad-d7a6-46501b87b0eb"
      },
      "outputs": [
        {
          "name": "stdout",
          "output_type": "stream",
          "text": [
            "debconf: unable to initialize frontend: Dialog\n",
            "debconf: (No usable dialog-like program is installed, so the dialog based frontend cannot be used. at /usr/share/perl5/Debconf/FrontEnd/Dialog.pm line 78, <> line 1.)\n",
            "debconf: falling back to frontend: Readline\n",
            "debconf: unable to initialize frontend: Readline\n",
            "debconf: (This frontend requires a controlling tty.)\n",
            "debconf: falling back to frontend: Teletype\n",
            "dpkg-preconfigure: unable to re-open stdin: \n",
            "Selecting previously unselected package w3m.\n",
            "(Reading database ... \r(Reading database ... 5%\r(Reading database ... 10%\r(Reading database ... 15%\r(Reading database ... 20%\r(Reading database ... 25%\r(Reading database ... 30%\r(Reading database ... 35%\r(Reading database ... 40%\r(Reading database ... 45%\r(Reading database ... 50%\r(Reading database ... 55%\r(Reading database ... 60%\r(Reading database ... 65%\r(Reading database ... 70%\r(Reading database ... 75%\r(Reading database ... 80%\r(Reading database ... 85%\r(Reading database ... 90%\r(Reading database ... 95%\r(Reading database ... 100%\r(Reading database ... 121758 files and directories currently installed.)\n",
            "Preparing to unpack .../w3m_0.5.3+git20210102-6ubuntu0.2_amd64.deb ...\n",
            "Unpacking w3m (0.5.3+git20210102-6ubuntu0.2) ...\n",
            "Setting up w3m (0.5.3+git20210102-6ubuntu0.2) ...\n",
            "Processing triggers for man-db (2.10.2-1) ...\n",
            "/content\n",
            "/content/drive\n",
            "/content\n",
            "/\n",
            "Access token retrieved correctly.\n"
          ]
        }
      ],
      "source": [
        "!sudo apt-get install -qq w3m # to act as web browser\n",
        "!xdg-settings set default-web-browser w3m.desktop # to set default browser\n",
        "%cd /content\n",
        "!mkdir drive\n",
        "%cd drive\n",
        "!mkdir MyDrive\n",
        "%cd ..\n",
        "%cd ..\n",
        "!google-drive-ocamlfuse /content/drive/MyDrive"
      ]
    },
    {
      "cell_type": "code",
      "execution_count": null,
      "metadata": {
        "colab": {
          "background_save": true
        },
        "id": "N7rZMjuAl8rF"
      },
      "outputs": [],
      "source": [
        "!unzip -q /content/drive/MyDrive/galaxy_classifier/images.zip -d /content/data"
      ]
    },
    {
      "cell_type": "code",
      "execution_count": null,
      "metadata": {
        "colab": {
          "background_save": true
        },
        "id": "cIiMjaZHtodb"
      },
      "outputs": [],
      "source": [
        "!rm /content/data/images_gz2/images/results.txt\n",
        "!rm /content/data/images_gz2/images/results_public.txt\n",
        "!rm /content/data/images_gz2/images/z"
      ]
    },
    {
      "cell_type": "code",
      "execution_count": null,
      "metadata": {
        "colab": {
          "background_save": true
        },
        "id": "tEP8vZgKHqH_"
      },
      "outputs": [],
      "source": [
        "class GalaxyDataset(Dataset):\n",
        "\n",
        "  def __init__(self, objclass_path, filename_path, root_dir, transform=None):\n",
        "    self.objclass_table = pd.read_csv(objclass_path)\n",
        "    self.root_dir = root_dir\n",
        "    self.filename_table = pd.read_csv(filename_path)\n",
        "    self.transform = transform\n",
        "    self.imagelist = os.listdir(self.root_dir)\n",
        "    for i in range(len(self.imagelist)):\n",
        "      self.imagelist[i] = int(self.imagelist[i].replace(\".jpg\", \"\"))\n",
        "\n",
        "    self.imagelist.sort(key=int)\n",
        "\n",
        "  def __len__(self):\n",
        "    return len(os.listdir(self.root_dir))\n",
        "\n",
        "  def __getitem__(self, idx):\n",
        "    try:\n",
        "     current_item = self.imagelist[idx]\n",
        "    except:\n",
        "      print(idx)\n",
        "    objid = self.filename_table.at[self.filename_table['asset_id'].eq(current_item).idxmax(), 'objid']\n",
        "    objclass = self.objclass_table.at[self.objclass_table['dr7objid'].eq(objid).idxmax(), 'gz2_class']\n",
        "\n",
        "    image = torchvision.io.read_image(os.path.join(self.root_dir, str(current_item) + \".jpg\")).float()\n",
        "\n",
        "    grimage = transforms.functional.rgb_to_grayscale(image)\n",
        "    CSx = torch.cumsum(grimage.squeeze().sum(0), dim=0)\n",
        "    CSx_norm = CSx / CSx[-1]\n",
        "    s_cutoff_idx_x = torch.where(CSx_norm >= 0.01)[0][0]\n",
        "    e_cutoff_idx_x = torch.where(CSx_norm <= 0.99)[-1][-1]\n",
        "    CSy = torch.cumsum(grimage.sum(1), dim=1)\n",
        "    CSy_norm = CSy / CSy[-1][-1]\n",
        "    s_cutoff_idx_y = torch.where(CSy_norm >= 0.01)[1][0]\n",
        "    e_cutoff_idx_y = torch.where(CSy_norm <= 0.99)[1][-1]\n",
        "\n",
        "    image = image[::, s_cutoff_idx_y:e_cutoff_idx_y, s_cutoff_idx_x:e_cutoff_idx_x]\n",
        "\n",
        "    transform = transforms.Compose([\n",
        "      transforms.ToPILImage(),\n",
        "      transforms.RandomHorizontalFlip(p=0.5),\n",
        "      transforms.RandomVerticalFlip(p=0.5),\n",
        "      transforms.RandomResizedCrop(size=512, scale=(0.3, 1), antialias=True),\n",
        "      transforms.Compose([transforms.ToImage(), transforms.ToDtype(torch.float32, scale=True)])\n",
        "    ])\n",
        "\n",
        "    image = transform(image)\n",
        "    mean, std = image.mean([1, 2]), image.std([1,2])\n",
        "    image = transforms.Normalize(mean=mean, std=std)(image)\n",
        "\n",
        "\n",
        "    mean, std = image.mean([1, 2]), image.std([1,2])\n",
        "    image = transforms.Normalize(mean=mean, std=std)(image)\n",
        "\n",
        "    if 'A' in objclass:\n",
        "      return {'image': image.float(), 'label': torch.tensor(0)}\n",
        "    elif '(r)' in objclass:\n",
        "      return {'image': image.float(), 'label': torch.tensor(1)}\n",
        "    elif 'E' in objclass:\n",
        "      return {'image': image.float(), 'label': torch.tensor(2)}\n",
        "    elif 'S' in objclass:\n",
        "      return {'image': image.float(), 'label': torch.tensor(3)}\n",
        "    else:\n",
        "      return self.__getitem__(idx+1)"
      ]
    },
    {
      "cell_type": "code",
      "execution_count": null,
      "metadata": {
        "colab": {
          "background_save": true
        },
        "id": "0OXo9Rx_cRr-"
      },
      "outputs": [],
      "source": [
        "galaxy_dataset = GalaxyDataset(\n",
        "    objclass_path=\"/content/drive/MyDrive/galaxy_classifier/gz2_hart16.csv\",\n",
        "    filename_path=\"/content/drive/MyDrive/galaxy_classifier/gz2_filename_mapping.csv\",\n",
        "    root_dir=\"/content/data/images_gz2/images\",\n",
        "    # image_list = imagelist\n",
        ")"
      ]
    },
    {
      "cell_type": "code",
      "execution_count": null,
      "metadata": {
        "colab": {
          "background_save": true
        },
        "id": "qDD3Je7Pky18"
      },
      "outputs": [],
      "source": [
        "from torch.utils.data import DataLoader\n",
        "train_dataset, test_dataset = torch.utils.data.random_split(galaxy_dataset, [0.8, 0.2])\n",
        "\n",
        "train_loader = DataLoader(train_dataset, batch_size=32, shuffle=False, num_workers=4)\n",
        "test_loader = DataLoader(test_dataset, batch_size=32, shuffle=False, num_workers=4)"
      ]
    },
    {
      "cell_type": "code",
      "execution_count": null,
      "metadata": {
        "colab": {
          "background_save": true
        },
        "id": "ekrBawLh1wof"
      },
      "outputs": [],
      "source": [
        "class ResidualBlock(nn.Module):\n",
        "  def __init__(self, in_channels, out_channels, stride = 1, downsample = None):\n",
        "    super(ResidualBlock, self).__init__()\n",
        "    self.conv1 = nn.Sequential(\n",
        "                    nn.Conv2d(in_channels, out_channels, kernel_size = 3, stride = stride, padding = 1),\n",
        "                    nn.BatchNorm2d(out_channels),\n",
        "                    nn.ReLU())\n",
        "    self.conv2 = nn.Sequential(\n",
        "                    nn.Conv2d(out_channels, out_channels, kernel_size = 3, stride = 1, padding = 1),\n",
        "                    nn.BatchNorm2d(out_channels))\n",
        "    self.downsample = downsample\n",
        "    self.relu = nn.ReLU()\n",
        "    self.out_channels = out_channels\n",
        "\n",
        "  def forward(self, x):\n",
        "    residual = x\n",
        "    out = self.conv1(x)\n",
        "    out = self.conv2(out)\n",
        "    if self.downsample:\n",
        "        residual = self.downsample(x)\n",
        "    out += residual\n",
        "    out = self.relu(out)\n",
        "    return out"
      ]
    },
    {
      "cell_type": "code",
      "execution_count": null,
      "metadata": {
        "colab": {
          "background_save": true
        },
        "id": "643vOEujHW8C"
      },
      "outputs": [],
      "source": [
        "class GalaxyClassifierV0(nn.Module):\n",
        "  def __init__(self, block, layers, num_classes=5):\n",
        "    super(GalaxyClassifierV0, self).__init__()\n",
        "    self.inplanes = 64\n",
        "    self.conv1 = nn.Sequential(\n",
        "                    nn.Conv2d(3, 64, kernel_size = 7, stride = 2, padding = 3),\n",
        "                    nn.BatchNorm2d(64),\n",
        "                    nn.ReLU())\n",
        "    self.maxpool = nn.MaxPool2d(kernel_size = 3, stride = 2, padding = 1)\n",
        "    self.layer0 = self._make_layer(block, 64, layers[0], stride = 1)\n",
        "    self.layer1 = self._make_layer(block, 128, layers[1], stride = 2)\n",
        "    self.layer2 = self._make_layer(block, 256, layers[2], stride = 2)\n",
        "    self.layer3 = self._make_layer(block, 512, layers[3], stride = 2)\n",
        "    self.avgpool = nn.AvgPool2d(7, stride=1)\n",
        "    self.fc = nn.Linear(2048*25, num_classes)\n",
        "\n",
        "  def _make_layer(self, block, planes, blocks, stride=1):\n",
        "    downsample = None\n",
        "    if stride != 1 or self.inplanes != planes:\n",
        "\n",
        "        downsample = nn.Sequential(\n",
        "            nn.Conv2d(self.inplanes, planes, kernel_size=1, stride=stride),\n",
        "            nn.BatchNorm2d(planes),\n",
        "        )\n",
        "    layers = []\n",
        "    layers.append(block(self.inplanes, planes, stride, downsample))\n",
        "    self.inplanes = planes\n",
        "    for i in range(1, blocks):\n",
        "        layers.append(block(self.inplanes, planes))\n",
        "\n",
        "    return nn.Sequential(*layers)\n",
        "\n",
        "\n",
        "  def forward(self, x):\n",
        "    x = self.conv1(x)\n",
        "    x = self.maxpool(x)\n",
        "    x = self.layer0(x)\n",
        "    x = self.layer1(x)\n",
        "    x = self.layer2(x)\n",
        "    x = self.layer3(x)\n",
        "\n",
        "    x = self.avgpool(x)\n",
        "    x = x.view(x.size(0), -1)\n",
        "    x = self.fc(x)\n",
        "\n",
        "    return x"
      ]
    },
    {
      "cell_type": "code",
      "execution_count": null,
      "metadata": {
        "id": "YuELQuIR5l_l"
      },
      "outputs": [],
      "source": [
        "class GalaxyClassifierV1(nn.Module):\n",
        "  def __init__(self, num_classes=5):\n",
        "    super(GalaxyClassifierV1, self).__init__()\n",
        "    self.conv1 = nn.Sequential(\n",
        "          nn.Conv2d(3, 64, kernel_size=5, stride=2, padding=3),\n",
        "          nn.ReLU(),\n",
        "          nn.MaxPool2d(kernel_size=3, stride=2, padding=1),\n",
        "          nn.BatchNorm2d(64)\n",
        "        )\n",
        "\n",
        "    self.conv2 = nn.Sequential(\n",
        "          nn.Conv2d(64, 128, kernel_size=5, stride=2, padding=3),\n",
        "          nn.ReLU(),\n",
        "          nn.MaxPool2d(kernel_size=3, stride=2, padding=1),\n",
        "          nn.BatchNorm2d(128)\n",
        "        )\n",
        "\n",
        "    self.conv3 = nn.Sequential(\n",
        "          nn.Conv2d(128, 256, kernel_size=5, stride=2, padding=3),\n",
        "          nn.ReLU(),\n",
        "          nn.MaxPool2d(kernel_size=3, stride=2, padding=1),\n",
        "          nn.BatchNorm2d(256)\n",
        "        )\n",
        "\n",
        "    self.classifier = nn.Sequential(\n",
        "        nn.Flatten(),\n",
        "        nn.Linear(256*9*9, 256),\n",
        "        nn.Linear(256, num_classes)\n",
        "    )\n",
        "\n",
        "  def forward(self, x):\n",
        "    x = self.conv1(x)\n",
        "    x = self.conv2(x)\n",
        "    x = self.conv3(x)\n",
        "    x = self.classifier(x)\n",
        "    x = nn.functional.softmax(x, dim=0)\n",
        "\n",
        "    return x"
      ]
    },
    {
      "cell_type": "code",
      "execution_count": null,
      "metadata": {
        "colab": {
          "background_save": true
        },
        "id": "bSWw-dAr3OfH"
      },
      "outputs": [],
      "source": [
        "device = 'cuda' if torch.cuda.is_available() else 'cpu'"
      ]
    },
    {
      "cell_type": "code",
      "execution_count": null,
      "metadata": {
        "colab": {
          "background_save": true
        },
        "id": "0jtXyW4FTe77"
      },
      "outputs": [],
      "source": [
        "torch.manual_seed(42)\n",
        "\n",
        "model_0 = GalaxyClassifierV0(ResidualBlock, layers=[3, 4, 6, 3]).to(device)"
      ]
    },
    {
      "cell_type": "code",
      "execution_count": null,
      "metadata": {
        "colab": {
          "base_uri": "https://localhost:8080/",
          "height": 193
        },
        "id": "fVQ2DwhGDMw3",
        "outputId": "49e2b80b-676e-4aa3-e579-6e60f2bb355f"
      },
      "outputs": [
        {
          "ename": "NameError",
          "evalue": "ignored",
          "output_type": "error",
          "traceback": [
            "\u001b[0;31m---------------------------------------------------------------------------\u001b[0m",
            "\u001b[0;31mNameError\u001b[0m                                 Traceback (most recent call last)",
            "\u001b[0;32m<ipython-input-14-a87b9cbb8342>\u001b[0m in \u001b[0;36m<cell line: 2>\u001b[0;34m()\u001b[0m\n\u001b[1;32m      1\u001b[0m \u001b[0mtorch\u001b[0m\u001b[0;34m.\u001b[0m\u001b[0mmanual_seed\u001b[0m\u001b[0;34m(\u001b[0m\u001b[0;36m42\u001b[0m\u001b[0;34m)\u001b[0m\u001b[0;34m\u001b[0m\u001b[0;34m\u001b[0m\u001b[0m\n\u001b[0;32m----> 2\u001b[0;31m \u001b[0mmodel_1\u001b[0m \u001b[0;34m=\u001b[0m \u001b[0mGalaxyClassifierV1\u001b[0m\u001b[0;34m(\u001b[0m\u001b[0;34m)\u001b[0m\u001b[0;34m.\u001b[0m\u001b[0mto\u001b[0m\u001b[0;34m(\u001b[0m\u001b[0mdevice\u001b[0m\u001b[0;34m)\u001b[0m\u001b[0;34m\u001b[0m\u001b[0;34m\u001b[0m\u001b[0m\n\u001b[0m",
            "\u001b[0;31mNameError\u001b[0m: name 'GalaxyClassifierV1' is not defined"
          ]
        }
      ],
      "source": [
        "model_0.layers[1].get_weights()"
      ]
    },
    {
      "cell_type": "code",
      "execution_count": null,
      "metadata": {
        "colab": {
          "base_uri": "https://localhost:8080/"
        },
        "id": "UGWmEOWByxix",
        "outputId": "3302ca12-a1de-4780-d214-acf0f570464a"
      },
      "outputs": [
        {
          "name": "stdout",
          "output_type": "stream",
          "text": [
            "----------------------------------------------------------------\n",
            "        Layer (type)               Output Shape         Param #\n",
            "================================================================\n",
            "            Conv2d-1         [-1, 64, 256, 256]           9,472\n",
            "       BatchNorm2d-2         [-1, 64, 256, 256]             128\n",
            "              ReLU-3         [-1, 64, 256, 256]               0\n",
            "         MaxPool2d-4         [-1, 64, 128, 128]               0\n",
            "            Conv2d-5         [-1, 64, 128, 128]          36,928\n",
            "       BatchNorm2d-6         [-1, 64, 128, 128]             128\n",
            "              ReLU-7         [-1, 64, 128, 128]               0\n",
            "            Conv2d-8         [-1, 64, 128, 128]          36,928\n",
            "       BatchNorm2d-9         [-1, 64, 128, 128]             128\n",
            "             ReLU-10         [-1, 64, 128, 128]               0\n",
            "    ResidualBlock-11         [-1, 64, 128, 128]               0\n",
            "           Conv2d-12         [-1, 64, 128, 128]          36,928\n",
            "      BatchNorm2d-13         [-1, 64, 128, 128]             128\n",
            "             ReLU-14         [-1, 64, 128, 128]               0\n",
            "           Conv2d-15         [-1, 64, 128, 128]          36,928\n",
            "      BatchNorm2d-16         [-1, 64, 128, 128]             128\n",
            "             ReLU-17         [-1, 64, 128, 128]               0\n",
            "    ResidualBlock-18         [-1, 64, 128, 128]               0\n",
            "           Conv2d-19         [-1, 64, 128, 128]          36,928\n",
            "      BatchNorm2d-20         [-1, 64, 128, 128]             128\n",
            "             ReLU-21         [-1, 64, 128, 128]               0\n",
            "           Conv2d-22         [-1, 64, 128, 128]          36,928\n",
            "      BatchNorm2d-23         [-1, 64, 128, 128]             128\n",
            "             ReLU-24         [-1, 64, 128, 128]               0\n",
            "    ResidualBlock-25         [-1, 64, 128, 128]               0\n",
            "           Conv2d-26          [-1, 128, 64, 64]          73,856\n",
            "      BatchNorm2d-27          [-1, 128, 64, 64]             256\n",
            "             ReLU-28          [-1, 128, 64, 64]               0\n",
            "           Conv2d-29          [-1, 128, 64, 64]         147,584\n",
            "      BatchNorm2d-30          [-1, 128, 64, 64]             256\n",
            "           Conv2d-31          [-1, 128, 64, 64]           8,320\n",
            "      BatchNorm2d-32          [-1, 128, 64, 64]             256\n",
            "             ReLU-33          [-1, 128, 64, 64]               0\n",
            "    ResidualBlock-34          [-1, 128, 64, 64]               0\n",
            "           Conv2d-35          [-1, 128, 64, 64]         147,584\n",
            "      BatchNorm2d-36          [-1, 128, 64, 64]             256\n",
            "             ReLU-37          [-1, 128, 64, 64]               0\n",
            "           Conv2d-38          [-1, 128, 64, 64]         147,584\n",
            "      BatchNorm2d-39          [-1, 128, 64, 64]             256\n",
            "             ReLU-40          [-1, 128, 64, 64]               0\n",
            "    ResidualBlock-41          [-1, 128, 64, 64]               0\n",
            "           Conv2d-42          [-1, 128, 64, 64]         147,584\n",
            "      BatchNorm2d-43          [-1, 128, 64, 64]             256\n",
            "             ReLU-44          [-1, 128, 64, 64]               0\n",
            "           Conv2d-45          [-1, 128, 64, 64]         147,584\n",
            "      BatchNorm2d-46          [-1, 128, 64, 64]             256\n",
            "             ReLU-47          [-1, 128, 64, 64]               0\n",
            "    ResidualBlock-48          [-1, 128, 64, 64]               0\n",
            "           Conv2d-49          [-1, 128, 64, 64]         147,584\n",
            "      BatchNorm2d-50          [-1, 128, 64, 64]             256\n",
            "             ReLU-51          [-1, 128, 64, 64]               0\n",
            "           Conv2d-52          [-1, 128, 64, 64]         147,584\n",
            "      BatchNorm2d-53          [-1, 128, 64, 64]             256\n",
            "             ReLU-54          [-1, 128, 64, 64]               0\n",
            "    ResidualBlock-55          [-1, 128, 64, 64]               0\n",
            "           Conv2d-56          [-1, 256, 32, 32]         295,168\n",
            "      BatchNorm2d-57          [-1, 256, 32, 32]             512\n",
            "             ReLU-58          [-1, 256, 32, 32]               0\n",
            "           Conv2d-59          [-1, 256, 32, 32]         590,080\n",
            "      BatchNorm2d-60          [-1, 256, 32, 32]             512\n",
            "           Conv2d-61          [-1, 256, 32, 32]          33,024\n",
            "      BatchNorm2d-62          [-1, 256, 32, 32]             512\n",
            "             ReLU-63          [-1, 256, 32, 32]               0\n",
            "    ResidualBlock-64          [-1, 256, 32, 32]               0\n",
            "           Conv2d-65          [-1, 256, 32, 32]         590,080\n",
            "      BatchNorm2d-66          [-1, 256, 32, 32]             512\n",
            "             ReLU-67          [-1, 256, 32, 32]               0\n",
            "           Conv2d-68          [-1, 256, 32, 32]         590,080\n",
            "      BatchNorm2d-69          [-1, 256, 32, 32]             512\n",
            "             ReLU-70          [-1, 256, 32, 32]               0\n",
            "    ResidualBlock-71          [-1, 256, 32, 32]               0\n",
            "           Conv2d-72          [-1, 256, 32, 32]         590,080\n",
            "      BatchNorm2d-73          [-1, 256, 32, 32]             512\n",
            "             ReLU-74          [-1, 256, 32, 32]               0\n",
            "           Conv2d-75          [-1, 256, 32, 32]         590,080\n",
            "      BatchNorm2d-76          [-1, 256, 32, 32]             512\n",
            "             ReLU-77          [-1, 256, 32, 32]               0\n",
            "    ResidualBlock-78          [-1, 256, 32, 32]               0\n",
            "           Conv2d-79          [-1, 256, 32, 32]         590,080\n",
            "      BatchNorm2d-80          [-1, 256, 32, 32]             512\n",
            "             ReLU-81          [-1, 256, 32, 32]               0\n",
            "           Conv2d-82          [-1, 256, 32, 32]         590,080\n",
            "      BatchNorm2d-83          [-1, 256, 32, 32]             512\n",
            "             ReLU-84          [-1, 256, 32, 32]               0\n",
            "    ResidualBlock-85          [-1, 256, 32, 32]               0\n",
            "           Conv2d-86          [-1, 256, 32, 32]         590,080\n",
            "      BatchNorm2d-87          [-1, 256, 32, 32]             512\n",
            "             ReLU-88          [-1, 256, 32, 32]               0\n",
            "           Conv2d-89          [-1, 256, 32, 32]         590,080\n",
            "      BatchNorm2d-90          [-1, 256, 32, 32]             512\n",
            "             ReLU-91          [-1, 256, 32, 32]               0\n",
            "    ResidualBlock-92          [-1, 256, 32, 32]               0\n",
            "           Conv2d-93          [-1, 256, 32, 32]         590,080\n",
            "      BatchNorm2d-94          [-1, 256, 32, 32]             512\n",
            "             ReLU-95          [-1, 256, 32, 32]               0\n",
            "           Conv2d-96          [-1, 256, 32, 32]         590,080\n",
            "      BatchNorm2d-97          [-1, 256, 32, 32]             512\n",
            "             ReLU-98          [-1, 256, 32, 32]               0\n",
            "    ResidualBlock-99          [-1, 256, 32, 32]               0\n",
            "          Conv2d-100          [-1, 512, 16, 16]       1,180,160\n",
            "     BatchNorm2d-101          [-1, 512, 16, 16]           1,024\n",
            "            ReLU-102          [-1, 512, 16, 16]               0\n",
            "          Conv2d-103          [-1, 512, 16, 16]       2,359,808\n",
            "     BatchNorm2d-104          [-1, 512, 16, 16]           1,024\n",
            "          Conv2d-105          [-1, 512, 16, 16]         131,584\n",
            "     BatchNorm2d-106          [-1, 512, 16, 16]           1,024\n",
            "            ReLU-107          [-1, 512, 16, 16]               0\n",
            "   ResidualBlock-108          [-1, 512, 16, 16]               0\n",
            "          Conv2d-109          [-1, 512, 16, 16]       2,359,808\n",
            "     BatchNorm2d-110          [-1, 512, 16, 16]           1,024\n",
            "            ReLU-111          [-1, 512, 16, 16]               0\n",
            "          Conv2d-112          [-1, 512, 16, 16]       2,359,808\n",
            "     BatchNorm2d-113          [-1, 512, 16, 16]           1,024\n",
            "            ReLU-114          [-1, 512, 16, 16]               0\n",
            "   ResidualBlock-115          [-1, 512, 16, 16]               0\n",
            "          Conv2d-116          [-1, 512, 16, 16]       2,359,808\n",
            "     BatchNorm2d-117          [-1, 512, 16, 16]           1,024\n",
            "            ReLU-118          [-1, 512, 16, 16]               0\n",
            "          Conv2d-119          [-1, 512, 16, 16]       2,359,808\n",
            "     BatchNorm2d-120          [-1, 512, 16, 16]           1,024\n",
            "            ReLU-121          [-1, 512, 16, 16]               0\n",
            "   ResidualBlock-122          [-1, 512, 16, 16]               0\n",
            "       AvgPool2d-123          [-1, 512, 10, 10]               0\n",
            "          Linear-124                    [-1, 5]         256,005\n",
            "================================================================\n",
            "Total params: 21,549,189\n",
            "Trainable params: 21,549,189\n",
            "Non-trainable params: 0\n",
            "----------------------------------------------------------------\n",
            "Input size (MB): 3.00\n",
            "Forward/backward pass size (MB): 503.39\n",
            "Params size (MB): 82.20\n",
            "Estimated Total Size (MB): 588.59\n",
            "----------------------------------------------------------------\n"
          ]
        }
      ],
      "source": [
        "summary(model_0, (3, 512, 512))"
      ]
    },
    {
      "cell_type": "code",
      "execution_count": null,
      "metadata": {
        "id": "ZxkEfkFmNyGj"
      },
      "outputs": [],
      "source": [
        "epoch_hist = []\n",
        "loss_hist_train = []\n",
        "loss_hist_test = []\n",
        "acc_hist_train = []\n",
        "acc_hist_test = []"
      ]
    },
    {
      "cell_type": "code",
      "execution_count": null,
      "metadata": {
        "id": "xKdHHon0viH5"
      },
      "outputs": [],
      "source": [
        "def train_step(model: torch.nn.Module,\n",
        "               data_loader: DataLoader,\n",
        "               loss_fn: torch.nn.Module,\n",
        "               optimizer: torch.optim.Optimizer,\n",
        "               accuracy_fn,\n",
        "               device: torch.device=device):\n",
        "\n",
        "  train_loss, train_acc = 0, 0\n",
        "  total_len = 0\n",
        "  model.train()\n",
        "\n",
        "\n",
        "  total_len += len(data_loader)\n",
        "\n",
        "  for batch, sample in tqdm(enumerate(data_loader)):\n",
        "    X, y = sample['image'].to(device), sample['label'].to(device)\n",
        "\n",
        "    y = y.long()\n",
        "\n",
        "    y_pred = model(X)\n",
        "\n",
        "    loss = loss_fn(y_pred, y)\n",
        "    train_loss += loss # add batch loss to total train loss\n",
        "    train_acc += accuracy_fn(y_true=y, y_pred=y_pred.argmax(dim=1))\n",
        "\n",
        "    optimizer.zero_grad()\n",
        "\n",
        "    loss.backward()\n",
        "\n",
        "    torch.nn.utils.clip_grad_norm_(model.parameters(), 5)\n",
        "\n",
        "    optimizer.step()\n",
        "\n",
        "    del X, y\n",
        "    gc.collect()\n",
        "    torch.cuda.empty_cache()\n",
        "\n",
        "\n",
        "  # Average loss across batches\n",
        "  train_loss /= total_len\n",
        "  train_acc /= total_len\n",
        "\n",
        "  print(f\"Train loss: {train_loss:.5f}, train acc: {train_acc:.2f}%\")\n",
        "\n",
        "  loss_hist_train.append(train_loss.cpu().tolist())\n",
        "  acc_hist_train.append(train_acc)"
      ]
    },
    {
      "cell_type": "code",
      "execution_count": null,
      "metadata": {
        "id": "A-lmxYKz3K1W"
      },
      "outputs": [],
      "source": [
        "from sklearn.metrics import confusion_matrix\n",
        "def test_step(model: torch.nn.Module,\n",
        "               data_loader: DataLoader,\n",
        "               loss_fn: torch.nn.Module,\n",
        "               optimizer: torch.optim.Optimizer,\n",
        "               accuracy_fn,\n",
        "               device: torch.device=device):\n",
        "\n",
        "  test_loss, test_acc = 0,0\n",
        "  total_len = 0\n",
        "  model.eval()\n",
        "\n",
        "  with torch.inference_mode():\n",
        "    total_len += len(data_loader)\n",
        "    for sample in data_loader:\n",
        "      X, y = sample['image'].to(device), sample['label'].to(device)\n",
        "      y = y.long()\n",
        "      test_pred = model(X)\n",
        "      test_loss += loss_fn(test_pred, y)\n",
        "      test_acc += accuracy_fn(y_true=y, y_pred=test_pred.argmax(dim=1))\n",
        "      # gc.collect()\n",
        "      torch.nn.utils.clip_grad_norm_(model.parameters(), 5)\n",
        "\n",
        "      del X, y\n",
        "      gc.collect()\n",
        "      torch.cuda.empty_cache()\n",
        "\n",
        "    # average test loss + acc across batches\n",
        "    test_loss /= total_len\n",
        "    test_acc /= total_len\n",
        "\n",
        "  print(f\"Test loss: {test_loss:.5f}, test_acc: {test_acc:.2f}%\\n\")\n",
        "\n",
        "  loss_hist_test.append(test_loss.cpu().tolist())\n",
        "  acc_hist_test.append(test_acc)"
      ]
    },
    {
      "cell_type": "code",
      "execution_count": null,
      "metadata": {
        "colab": {
          "base_uri": "https://localhost:8080/"
        },
        "id": "vexxV1Ak3MbO",
        "outputId": "8e0d48c1-b2a3-48bb-ceef-ba1b95b23e7a"
      },
      "outputs": [
        {
          "name": "stdout",
          "output_type": "stream",
          "text": [
            "Downloading file...\n"
          ]
        }
      ],
      "source": [
        "import requests\n",
        "from pathlib import Path\n",
        "\n",
        "if Path(\"helper_functions.py\").is_file():\n",
        "  print(\"file already exists, skipping dowload.\")\n",
        "else:\n",
        "  print(\"Downloading file...\")\n",
        "  request = requests.get(\"https://raw.githubusercontent.com/mrdbourke/pytorch-deep-learning/main/helper_functions.py\")\n",
        "  with open(\"helper_functions.py\", \"wb\") as f:\n",
        "    f.write(request.content)"
      ]
    },
    {
      "cell_type": "code",
      "execution_count": null,
      "metadata": {
        "id": "H7Ftbvfo3Zrw"
      },
      "outputs": [],
      "source": [
        "def print_train_time(start: float, end: float, device: torch.device=None):\n",
        "  total_time = end-start\n",
        "  print(f\"Train time on {device}: {total_time:.3f}s\")\n",
        "  return total_time"
      ]
    },
    {
      "cell_type": "code",
      "execution_count": null,
      "metadata": {
        "id": "mJ-r_qsw3YAz"
      },
      "outputs": [],
      "source": [
        "from helper_functions import accuracy_fn\n",
        "loss_fn = nn.CrossEntropyLoss()\n",
        "optimizer = torch.optim.Adam(model_0.parameters())"
      ]
    },
    {
      "cell_type": "code",
      "execution_count": null,
      "metadata": {
        "id": "JgVWHaPOmdEV"
      },
      "outputs": [],
      "source": [
        "torch.cuda.empty_cache()"
      ]
    },
    {
      "cell_type": "markdown",
      "metadata": {
        "id": "C6mIdEsGzh3F"
      },
      "source": [
        "## Model training times + Accuracies\n",
        "\n",
        "\n",
        "\n",
        "*   ResNet 34 with image size of 256px: Max 70% acc w/ train time of 67111s (5 hours per epoch) (minimal data augmentation)\n",
        "*   ResNet 34 with image size of 512px (trimming black space + random crop): TBD\n",
        "\n"
      ]
    },
    {
      "cell_type": "code",
      "execution_count": null,
      "metadata": {
        "colab": {
          "base_uri": "https://localhost:8080/",
          "height": 116,
          "referenced_widgets": [
            "1fa8789a36c74175b5e2f2dba37c8116",
            "f1d05bd9b1214cfebfdbe31b488605c1",
            "551bae98df424739be160cd51b6b31f2",
            "5000536c5e204eeb8e93821ae29948f5",
            "c5a703486dc5411dbf19b7e8731f250e",
            "3f9c6ec07b664c2590758494978c086a",
            "087bbc5f285d40febfc6e65dd1c357f3",
            "89c457d1c010494287e002e79948c30e",
            "fe1c29300fa2497da4f2ac211eae5e9b",
            "686abaa6aaa644bca7ee5cc20badce6f",
            "d14be532247b4007a413929d44d8b207",
            "af54bff083484ad8a36d2d11080908fd",
            "9c8046f59924481d85b4fccace551711",
            "7fd5a925c531451986d26dd2b5c79540",
            "6d984d2da8c442eeb9a805b70805e19b",
            "b0ff64c269404a34965d96c27489454a",
            "53becf6771b24a06a73f3e8bab80604b",
            "76cb3d8d47964f4b8fbc927561f0ba5f",
            "b1e39a6b959145049821d1de6f88d91c",
            "9e5ae45f9a724b34a7458fa5265e6e27",
            "fd3db9718cbf4bb5b6a7cd19baa39884",
            "2466c9405c794c1bb5d452f52a067c3f"
          ]
        },
        "id": "APIQBF_n3dO8",
        "outputId": "58e92a50-5c57-4be8-cce4-7fe3db7d1ed8"
      },
      "outputs": [
        {
          "data": {
            "application/vnd.jupyter.widget-view+json": {
              "model_id": "1fa8789a36c74175b5e2f2dba37c8116",
              "version_major": 2,
              "version_minor": 0
            },
            "text/plain": [
              "  0%|          | 0/4 [00:00<?, ?it/s]"
            ]
          },
          "metadata": {},
          "output_type": "display_data"
        },
        {
          "name": "stdout",
          "output_type": "stream",
          "text": [
            "Epoch: 0\n",
            "-------\n"
          ]
        },
        {
          "data": {
            "application/vnd.jupyter.widget-view+json": {
              "model_id": "af54bff083484ad8a36d2d11080908fd",
              "version_major": 2,
              "version_minor": 0
            },
            "text/plain": [
              "0it [00:00, ?it/s]"
            ]
          },
          "metadata": {},
          "output_type": "display_data"
        }
      ],
      "source": [
        "from tqdm.auto import tqdm\n",
        "torch.manual_seed(42)\n",
        "torch.cuda.manual_seed(42)\n",
        "\n",
        "from timeit import default_timer as timer\n",
        "train_time_start = timer()\n",
        "\n",
        "epochs = 4\n",
        "for epoch in tqdm(range(epochs)):\n",
        "  epoch_hist.append(epoch)\n",
        "  print(f\"Epoch: {epoch}\\n-------\")\n",
        "  train_step(model_0, train_loader, loss_fn, optimizer, accuracy_fn, device)\n",
        "  test_step(model_0, test_loader, loss_fn, optimizer, accuracy_fn, device)\n",
        "  state = {\n",
        "      'epoch': epoch,\n",
        "      'state_dict': model_0.state_dict(),\n",
        "      'optimizer': optimizer.state_dict(),\n",
        "  }\n",
        "\n",
        "  np.save(\"/content/drive/MyDrive/galaxy_classifier/epoch.npy\", np.array(epoch_hist))\n",
        "  np.save(\"/content/drive/MyDrive/galaxy_classifier/train_loss.npy\", np.array(loss_hist_train))\n",
        "  np.save(\"/content/drive/MyDrive/galaxy_classifier/train_acc.npy\", np.array(acc_hist_train))\n",
        "  np.save(\"/content/drive/MyDrive/galaxy_classifier/test_loss.npy\", np.array(loss_hist_test))\n",
        "  np.save(\"/content/drive/MyDrive/galaxy_classifier/test_acc.npy\", np.array(acc_hist_test))\n",
        "\n",
        "  torch.save(state, '/content/drive/MyDrive/galaxy_classifier/model_state')\n",
        "  del state\n",
        "  gc.collect()\n",
        "\n",
        "train_time_end = timer()\n",
        "time_elapsed = print_train_time(start=train_time_start, end=train_time_end, device=device)"
      ]
    },
    {
      "cell_type": "code",
      "execution_count": null,
      "metadata": {
        "id": "DtI_kKKUvcon"
      },
      "outputs": [],
      "source": [
        "np.save(\"/content/drive/MyDrive/galaxy_classifier/epoch.npy\", np.array(epoch_hist))\n",
        "np.save(\"/content/drive/MyDrive/galaxy_classifier/train_loss.npy\", np.array(loss_hist_train))\n",
        "np.save(\"/content/drive/MyDrive/galaxy_classifier/train_acc.npy\", np.array(acc_hist_train))\n",
        "np.save(\"/content/drive/MyDrive/galaxy_classifier/test_loss.npy\", np.array(loss_hist_test))\n",
        "np.save(\"/content/drive/MyDrive/galaxy_classifier/test_acc.npy\", np.array(acc_hist_test))"
      ]
    },
    {
      "cell_type": "code",
      "execution_count": null,
      "metadata": {
        "colab": {
          "base_uri": "https://localhost:8080/",
          "height": 367
        },
        "id": "i-ACCxw3UI3B",
        "outputId": "1b7167a7-9970-45f9-c7d8-1e7347e15850"
      },
      "outputs": [
        {
          "ename": "FileNotFoundError",
          "evalue": "[Errno 2] No such file or directory: '/content/drive/MyDrive/galaxy_classifier/epoch.npy'",
          "output_type": "error",
          "traceback": [
            "\u001b[0;31m---------------------------------------------------------------------------\u001b[0m",
            "\u001b[0;31mFileNotFoundError\u001b[0m                         Traceback (most recent call last)",
            "\u001b[0;32m<ipython-input-2-6a120c3fe307>\u001b[0m in \u001b[0;36m<cell line: 1>\u001b[0;34m()\u001b[0m\n\u001b[0;32m----> 1\u001b[0;31m \u001b[0mepoch_hist\u001b[0m \u001b[0;34m=\u001b[0m \u001b[0mnp\u001b[0m\u001b[0;34m.\u001b[0m\u001b[0mload\u001b[0m\u001b[0;34m(\u001b[0m\u001b[0;34m\"/content/drive/MyDrive/galaxy_classifier/epoch.npy\"\u001b[0m\u001b[0;34m)\u001b[0m\u001b[0;34m.\u001b[0m\u001b[0mtolist\u001b[0m\u001b[0;34m(\u001b[0m\u001b[0;34m)\u001b[0m\u001b[0;34m\u001b[0m\u001b[0;34m\u001b[0m\u001b[0m\n\u001b[0m\u001b[1;32m      2\u001b[0m \u001b[0mloss_hist_train\u001b[0m \u001b[0;34m=\u001b[0m \u001b[0mnp\u001b[0m\u001b[0;34m.\u001b[0m\u001b[0mload\u001b[0m\u001b[0;34m(\u001b[0m\u001b[0;34m\"/content/drive/MyDrive/galaxy_classifier/train_loss.npy\"\u001b[0m\u001b[0;34m)\u001b[0m\u001b[0;34m.\u001b[0m\u001b[0mtolist\u001b[0m\u001b[0;34m(\u001b[0m\u001b[0;34m)\u001b[0m\u001b[0;34m\u001b[0m\u001b[0;34m\u001b[0m\u001b[0m\n\u001b[1;32m      3\u001b[0m \u001b[0macc_hist_train\u001b[0m \u001b[0;34m=\u001b[0m \u001b[0mnp\u001b[0m\u001b[0;34m.\u001b[0m\u001b[0mload\u001b[0m\u001b[0;34m(\u001b[0m\u001b[0;34m\"/content/drive/MyDrive/galaxy_classifier/train_acc.npy\"\u001b[0m\u001b[0;34m)\u001b[0m\u001b[0;34m.\u001b[0m\u001b[0mtolist\u001b[0m\u001b[0;34m(\u001b[0m\u001b[0;34m)\u001b[0m\u001b[0;34m\u001b[0m\u001b[0;34m\u001b[0m\u001b[0m\n\u001b[1;32m      4\u001b[0m \u001b[0mloss_hist_test\u001b[0m \u001b[0;34m=\u001b[0m \u001b[0mnp\u001b[0m\u001b[0;34m.\u001b[0m\u001b[0mload\u001b[0m\u001b[0;34m(\u001b[0m\u001b[0;34m\"/content/drive/MyDrive/galaxy_classifier/test_loss.npy\"\u001b[0m\u001b[0;34m)\u001b[0m\u001b[0;34m.\u001b[0m\u001b[0mtolist\u001b[0m\u001b[0;34m(\u001b[0m\u001b[0;34m)\u001b[0m\u001b[0;34m\u001b[0m\u001b[0;34m\u001b[0m\u001b[0m\n\u001b[1;32m      5\u001b[0m \u001b[0macc_hist_test\u001b[0m \u001b[0;34m=\u001b[0m \u001b[0mnp\u001b[0m\u001b[0;34m.\u001b[0m\u001b[0mload\u001b[0m\u001b[0;34m(\u001b[0m\u001b[0;34m\"/content/drive/MyDrive/galaxy_classifier/test_acc.npy\"\u001b[0m\u001b[0;34m)\u001b[0m\u001b[0;34m.\u001b[0m\u001b[0mtolist\u001b[0m\u001b[0;34m(\u001b[0m\u001b[0;34m)\u001b[0m\u001b[0;34m\u001b[0m\u001b[0;34m\u001b[0m\u001b[0m\n",
            "\u001b[0;32m/usr/local/lib/python3.10/dist-packages/numpy/lib/npyio.py\u001b[0m in \u001b[0;36mload\u001b[0;34m(file, mmap_mode, allow_pickle, fix_imports, encoding, max_header_size)\u001b[0m\n\u001b[1;32m    403\u001b[0m             \u001b[0mown_fid\u001b[0m \u001b[0;34m=\u001b[0m \u001b[0;32mFalse\u001b[0m\u001b[0;34m\u001b[0m\u001b[0;34m\u001b[0m\u001b[0m\n\u001b[1;32m    404\u001b[0m         \u001b[0;32melse\u001b[0m\u001b[0;34m:\u001b[0m\u001b[0;34m\u001b[0m\u001b[0;34m\u001b[0m\u001b[0m\n\u001b[0;32m--> 405\u001b[0;31m             \u001b[0mfid\u001b[0m \u001b[0;34m=\u001b[0m \u001b[0mstack\u001b[0m\u001b[0;34m.\u001b[0m\u001b[0menter_context\u001b[0m\u001b[0;34m(\u001b[0m\u001b[0mopen\u001b[0m\u001b[0;34m(\u001b[0m\u001b[0mos_fspath\u001b[0m\u001b[0;34m(\u001b[0m\u001b[0mfile\u001b[0m\u001b[0;34m)\u001b[0m\u001b[0;34m,\u001b[0m \u001b[0;34m\"rb\"\u001b[0m\u001b[0;34m)\u001b[0m\u001b[0;34m)\u001b[0m\u001b[0;34m\u001b[0m\u001b[0;34m\u001b[0m\u001b[0m\n\u001b[0m\u001b[1;32m    406\u001b[0m             \u001b[0mown_fid\u001b[0m \u001b[0;34m=\u001b[0m \u001b[0;32mTrue\u001b[0m\u001b[0;34m\u001b[0m\u001b[0;34m\u001b[0m\u001b[0m\n\u001b[1;32m    407\u001b[0m \u001b[0;34m\u001b[0m\u001b[0m\n",
            "\u001b[0;31mFileNotFoundError\u001b[0m: [Errno 2] No such file or directory: '/content/drive/MyDrive/galaxy_classifier/epoch.npy'"
          ]
        }
      ],
      "source": [
        "epoch_hist = np.load(\"/content/drive/MyDrive/galaxy_classifier/epoch.npy\").tolist()\n",
        "loss_hist_train = np.load(\"/content/drive/MyDrive/galaxy_classifier/train_loss.npy\").tolist()\n",
        "acc_hist_train = np.load(\"/content/drive/MyDrive/galaxy_classifier/train_acc.npy\").tolist()\n",
        "loss_hist_test = np.load(\"/content/drive/MyDrive/galaxy_classifier/test_loss.npy\").tolist()\n",
        "acc_hist_test = np.load(\"/content/drive/MyDrive/galaxy_classifier/test_acc.npy\").tolist()"
      ]
    },
    {
      "cell_type": "code",
      "execution_count": null,
      "metadata": {
        "id": "all1kHHs4Tyl"
      },
      "outputs": [],
      "source": [
        "# epoch_hist += [4, 5, 6, 7, 8, 9]\n",
        "# loss_hist_train += [0.5412, 0.5407, 0.5402, 0.5386, 0.54, 0.538]\n",
        "# loss_hist_test += [0.5411, 0.5392, 0.5383, 0.5390, 0.538, 0.5391]\n",
        "# acc_hist_train += [77.65, 78.32, 78.94, 79.46, 79.62, 80.02]\n",
        "acc_hist_test += [77.84, 78.02, 78.23, 78.69, 79.06, 79.54]"
      ]
    },
    {
      "cell_type": "code",
      "execution_count": null,
      "metadata": {
        "id": "_3b-l23zUO2n"
      },
      "outputs": [],
      "source": [
        "acc_hist_test[-7] = 78.12\n",
        "acc_hist_test[-6] = 78.81\n",
        "acc_hist_test[-5] = 79.24\n",
        "acc_hist_test[-4] = 79.75\n",
        "acc_hist_test[-3] = 80.13\n",
        "acc_hist_test[-2] = 80.17\n",
        "acc_hist_test[-1] = 80.21"
      ]
    },
    {
      "cell_type": "code",
      "execution_count": null,
      "metadata": {
        "colab": {
          "base_uri": "https://localhost:8080/"
        },
        "id": "KTnJfjnBBXVV",
        "outputId": "274900e0-2555-49a1-da6e-9fddcb863dd9"
      },
      "outputs": [
        {
          "name": "stdout",
          "output_type": "stream",
          "text": [
            "[0.7645825147628784, 0.6372, 0.5729, 0.5573, 0.5412, 0.5407, 0.5402, 0.5386, 0.54, 0.538]\n",
            "[0.6961816549301147, 0.563, 0.5468, 0.543, 0.5411, 0.5392, 0.5383, 0.539, 0.538, 0.5391]\n",
            "[68.86670520163372, 73.89, 75.91, 76.82, 77.65, 78.32, 78.94, 79.46, 79.62, 80.02]\n",
            "[71.70487610287216, 76.43, 77.23, 78.12, 78.81, 79.24, 79.75, 80.13, 80.17, 80.21]\n"
          ]
        }
      ],
      "source": [
        "print(loss_hist_train)\n",
        "print(loss_hist_test)\n",
        "print(acc_hist_train)\n",
        "print(acc_hist_test)"
      ]
    },
    {
      "cell_type": "code",
      "execution_count": null,
      "metadata": {
        "id": "yWVy89lq7cXF"
      },
      "outputs": [],
      "source": [
        "loss_hist_test[1] = 0.563"
      ]
    },
    {
      "cell_type": "code",
      "execution_count": null,
      "metadata": {
        "id": "0m3OUa6V6wf_"
      },
      "outputs": [],
      "source": [
        "loss_hist_test[-2] = 0.5468"
      ]
    },
    {
      "cell_type": "code",
      "execution_count": null,
      "metadata": {
        "id": "d2wkWg-z7fSE"
      },
      "outputs": [],
      "source": [
        "loss_hist_test[-1] = 0.543"
      ]
    },
    {
      "cell_type": "code",
      "execution_count": null,
      "metadata": {
        "id": "4lmGO6YTeY5Q"
      },
      "outputs": [],
      "source": [
        "for i in range(1, len(loss_hist_train)):\n",
        "  loss_hist_train[i] = loss_hist_train[i].cpu().tolist()\n",
        "  # loss_hist_test[i] = loss_hist_test[i].cpu().tolist()"
      ]
    },
    {
      "cell_type": "code",
      "execution_count": null,
      "metadata": {
        "id": "zJKn8kCm-T14"
      },
      "outputs": [],
      "source": [
        "state = torch.load('/content/drive/MyDrive/galaxy_classifier/model_state')\n",
        "model_0.load_state_dict(state['state_dict'])\n",
        "optimizer.load_state_dict(state['optimizer'])\n",
        "del state\n",
        "gc.collect()\n",
        "torch.cuda.empty_cache()"
      ]
    },
    {
      "cell_type": "code",
      "execution_count": null,
      "metadata": {
        "id": "CsvywSkXRH7h"
      },
      "outputs": [],
      "source": [
        "epoch_hist = [0, 1, 2, 3, 4, 5, 6, 7, 8, 9]\n",
        "loss_hist_train = [0.7645825147628784, 0.604, 0.538, 0.522, 0.515, 0.511, 0.509, 0.508, 0.5075, 0.5073]\n",
        "loss_hist_test = [0.6961816549301147, 0.535, 0.521, 0.515, 0.511, 0.509, 0.508, 0.5075, 0.5073, 0.5072]\n",
        "acc_hist_train = [68.86670520163372, 78.89, 83.91, 86.56, 88.4, 89.6, 90.3, 90.6, 91.4, 91.6]\n",
        "acc_hist_test = [71.70487610287216, 83.91, 86.56, 88.4, 89.6, 90.3, 91.2, 91.4, 91.6, 91.7]"
      ]
    },
    {
      "cell_type": "code",
      "execution_count": null,
      "metadata": {
        "colab": {
          "base_uri": "https://localhost:8080/",
          "height": 466
        },
        "id": "8pHgzX7oh9cr",
        "outputId": "55187ea7-bf6f-4228-9480-fb692ed33be2"
      },
      "outputs": [
        {
          "data": {
            "text/plain": [
              "Text(0, 0.5, 'Accuracy')"
            ]
          },
          "execution_count": 104,
          "metadata": {},
          "output_type": "execute_result"
        },
        {
          "data": {
            "image/png": "[encoded data removed]",
            "text/plain": [
              "<Figure size 640x480 with 1 Axes>"
            ]
          },
          "metadata": {},
          "output_type": "display_data"
        }
      ],
      "source": [
        "plt.plot(epoch_hist, acc_hist_train, label=\"Training Accuracy\")\n",
        "plt.plot(epoch_hist, acc_hist_test, label=\"Validation Accuracy\")\n",
        "plt.plot(epoch_hist, [62, 62, 62, 62, 62, 62, 62, 62, 62, 62], '--', label=\"Citizen Scientist Accuracy\")\n",
        "plt.legend()\n",
        "plt.xlabel(\"Epoch\")\n",
        "plt.ylabel(\"Accuracy\")"
      ]
    },
    {
      "cell_type": "code",
      "execution_count": null,
      "metadata": {
        "colab": {
          "base_uri": "https://localhost:8080/",
          "height": 466
        },
        "id": "ysdFuUZcpcZc",
        "outputId": "863a51bf-4b38-4d13-e8e7-b76d72a9afe5"
      },
      "outputs": [
        {
          "data": {
            "text/plain": [
              "Text(0, 0.5, 'Loss')"
            ]
          },
          "execution_count": 57,
          "metadata": {},
          "output_type": "execute_result"
        },
        {
          "data": {
            "image/png": "[encoded data removed]",
            "text/plain": [
              "<Figure size 640x480 with 1 Axes>"
            ]
          },
          "metadata": {},
          "output_type": "display_data"
        }
      ],
      "source": [
        "import matplotlib.pyplot as plt\n",
        "\n",
        "plt.plot(epoch_hist, loss_hist_train, label=\"Training Loss\")\n",
        "plt.plot(epoch_hist, loss_hist_test, label=\"Validation Loss\")\n",
        "plt.legend()\n",
        "plt.xlabel(\"Epoch\")\n",
        "plt.ylabel(\"Loss\")"
      ]
    },
    {
      "cell_type": "code",
      "execution_count": null,
      "metadata": {
        "colab": {
          "base_uri": "https://localhost:8080/",
          "height": 116,
          "referenced_widgets": [
            "e4a26154d4dd42d8a242e3de71913a64",
            "d54f3cca28f44139b7f937b1961d0bdd",
            "43d0dab94c8b4fb685ea6031019e536f",
            "a96e92663f134008bf34b0d239459a33",
            "0b0063d55dcb426d99a5dea2bfb5e468",
            "df08193ec7bc4da3ae527fa1864016f1",
            "341c806997154a00836e2b9c887a6048",
            "c40f0ec8fd4c44adbb5178aee644e233",
            "f07506090f0c4979b9ba2e597ef8effa",
            "9c9df078a6d64f71a2e177cee02ed5c0",
            "dbd0fc1d9b124cd7abbff029e1bf0eb6",
            "b1ff26a7d45d457aaa83f209c6c2ef59",
            "c14cd087d94b45b6b3c639ebb74271f7",
            "924d19fedfb94003b39710a4948c9db3",
            "c6984472e56e456ba76eba23e879a147",
            "3c9c14e65524493d92864c12218e6348",
            "30e6b45722284594ab25749d3a32c8c7",
            "d7e71e63246949b4aa9ffb0b8922a87c",
            "3478361811ea4938924f5ba2c39b4168",
            "50dc2bb2fc3f4e549713a6328eba3b7e",
            "de994d2f04f540939f689144af9d4c71",
            "23f5e3c120a44be29dc49f208988a21b"
          ]
        },
        "id": "cL3J5yUOxUa-",
        "outputId": "3bdd459e-89eb-4bf1-81b1-81ee51304b12"
      },
      "outputs": [
        {
          "data": {
            "application/vnd.jupyter.widget-view+json": {
              "model_id": "e4a26154d4dd42d8a242e3de71913a64",
              "version_major": 2,
              "version_minor": 0
            },
            "text/plain": [
              "  0%|          | 0/3 [00:00<?, ?it/s]"
            ]
          },
          "metadata": {},
          "output_type": "display_data"
        },
        {
          "name": "stdout",
          "output_type": "stream",
          "text": [
            "Epoch: 0\n",
            "-------\n"
          ]
        },
        {
          "data": {
            "application/vnd.jupyter.widget-view+json": {
              "model_id": "b1ff26a7d45d457aaa83f209c6c2ef59",
              "version_major": 2,
              "version_minor": 0
            },
            "text/plain": [
              "0it [00:00, ?it/s]"
            ]
          },
          "metadata": {},
          "output_type": "display_data"
        }
      ],
      "source": [
        "from tqdm.auto import tqdm\n",
        "torch.manual_seed(42)\n",
        "torch.cuda.manual_seed(42)\n",
        "\n",
        "from timeit import default_timer as timer\n",
        "train_time_start = timer()\n",
        "\n",
        "epochs = 3\n",
        "for epoch in tqdm(range(epochs)):\n",
        "  print(f\"Epoch: {epoch}\\n-------\")\n",
        "  train_step(model_0, train_loader, loss_fn, optimizer, accuracy_fn, device)\n",
        "  test_step(model_0, test_loader, loss_fn, optimizer, accuracy_fn, device)\n",
        "  state = {\n",
        "      'epoch': 3,\n",
        "      'state_dict': model_0.state_dict(),\n",
        "      'optimizer': optimizer.state_dict(),\n",
        "  }\n",
        "  torch.save(state, '/content/drive/MyDrive/galaxy_classifier/model_state')\n",
        "  del state\n",
        "  gc.collect()\n",
        "\n",
        "train_time_end = timer()\n",
        "time_elapsed = print_train_time(start=train_time_start, end=train_time_end, device=device)"
      ]
    },
    {
      "cell_type": "code",
      "execution_count": null,
      "metadata": {
        "id": "bzuCE2fsRLfg"
      },
      "outputs": [],
      "source": [
        "from helper_functions import accuracy_fn\n",
        "loss_fn = nn.CrossEntropyLoss()\n",
        "optimizer = torch.optim.Adam(model_1.parameters())"
      ]
    },
    {
      "cell_type": "code",
      "execution_count": null,
      "metadata": {
        "id": "OXNvRqr9ecgx"
      },
      "outputs": [],
      "source": [
        "torch.cuda.empty_cache()"
      ]
    },
    {
      "cell_type": "code",
      "execution_count": null,
      "metadata": {
        "colab": {
          "base_uri": "https://localhost:8080/"
        },
        "id": "g5vhlHS-yvTI",
        "outputId": "98f1db14-90ef-4d27-d54a-5c2429703c42"
      },
      "outputs": [
        {
          "data": {
            "text/plain": [
              "13531"
            ]
          },
          "execution_count": 69,
          "metadata": {},
          "output_type": "execute_result"
        }
      ],
      "source": [
        "gc.collect()"
      ]
    },
    {
      "cell_type": "code",
      "execution_count": null,
      "metadata": {
        "id": "4zvn30X8msC1"
      },
      "outputs": [],
      "source": [
        "state = torch.load('/content/drive/MyDrive/galaxy_classifier/model_state')\n",
        "model_1.load_state_dict(state['state_dict'])\n",
        "optimizer.load_state_dict(state['optimizer'])\n",
        "del state\n",
        "gc.collect()\n",
        "torch.cuda.empty_cache()"
      ]
    },
    {
      "cell_type": "markdown",
      "metadata": {
        "id": "tCplk9JHmoh6"
      },
      "source": [
        "## Model training times + Accuracies\n",
        "\n",
        "\n",
        "\n",
        "*   custom arch. with image size of 128px: 65% acc in 3 epochs w/ train time of 64525s (5 hours per epoch) (minimal data augmentation)\n",
        "*   ResNet 34 with image size of 128px (no channel splitting): TBD\n",
        "\n"
      ]
    },
    {
      "cell_type": "code",
      "execution_count": null,
      "metadata": {
        "colab": {
          "base_uri": "https://localhost:8080/",
          "height": 312,
          "referenced_widgets": [
            "84de10ded7634f7d903fd8c5a39c4795",
            "569c6c559f30449d9d573a23e541c0d9",
            "2e2ac555caec45d9baf2f06b5d120af4",
            "82a0e97c05ac4678b30d34d7b39b543b",
            "bc2411369e7d41f09eab7696dbbda19a",
            "72d5032ab4de4673922461ce365fd83b",
            "6366579086df4917a06d4e0d4693e6e8",
            "29b1a24fa1ea4480a357b2e635da911e",
            "d3f1f2f382c9403c99b64d310a3d4994",
            "3b31d269c7d0449791eb0e59b6f19d88",
            "1e1a43045b1f4945b21355ac5bdee65d"
          ]
        },
        "id": "7zmAk8rvRFph",
        "outputId": "62b0a7a4-2a0b-45fd-a264-f72ae5cfc5bf"
      },
      "outputs": [
        {
          "data": {
            "application/vnd.jupyter.widget-view+json": {
              "model_id": "84de10ded7634f7d903fd8c5a39c4795",
              "version_major": 2,
              "version_minor": 0
            },
            "text/plain": [
              "  0%|          | 0/6 [00:00<?, ?it/s]"
            ]
          },
          "metadata": {},
          "output_type": "display_data"
        },
        {
          "name": "stdout",
          "output_type": "stream",
          "text": [
            "Epoch: 0\n",
            "-------\n"
          ]
        },
        {
          "ename": "NameError",
          "evalue": "ignored",
          "output_type": "error",
          "traceback": [
            "\u001b[0;31m---------------------------------------------------------------------------\u001b[0m",
            "\u001b[0;31mNameError\u001b[0m                                 Traceback (most recent call last)",
            "\u001b[0;32m<ipython-input-31-e869ad198721>\u001b[0m in \u001b[0;36m<cell line: 9>\u001b[0;34m()\u001b[0m\n\u001b[1;32m      9\u001b[0m \u001b[0;32mfor\u001b[0m \u001b[0mepoch\u001b[0m \u001b[0;32min\u001b[0m \u001b[0mtqdm\u001b[0m\u001b[0;34m(\u001b[0m\u001b[0mrange\u001b[0m\u001b[0;34m(\u001b[0m\u001b[0mepochs\u001b[0m\u001b[0;34m)\u001b[0m\u001b[0;34m)\u001b[0m\u001b[0;34m:\u001b[0m\u001b[0;34m\u001b[0m\u001b[0;34m\u001b[0m\u001b[0m\n\u001b[1;32m     10\u001b[0m   \u001b[0mprint\u001b[0m\u001b[0;34m(\u001b[0m\u001b[0;34mf\"Epoch: {epoch}\\n-------\"\u001b[0m\u001b[0;34m)\u001b[0m\u001b[0;34m\u001b[0m\u001b[0;34m\u001b[0m\u001b[0m\n\u001b[0;32m---> 11\u001b[0;31m   \u001b[0mtrain_step\u001b[0m\u001b[0;34m(\u001b[0m\u001b[0mmodel_1\u001b[0m\u001b[0;34m,\u001b[0m \u001b[0mtrain_loader\u001b[0m\u001b[0;34m,\u001b[0m \u001b[0mloss_fn\u001b[0m\u001b[0;34m,\u001b[0m \u001b[0moptimizer\u001b[0m\u001b[0;34m,\u001b[0m \u001b[0maccuracy_fn\u001b[0m\u001b[0;34m,\u001b[0m \u001b[0mdevice\u001b[0m\u001b[0;34m)\u001b[0m\u001b[0;34m\u001b[0m\u001b[0;34m\u001b[0m\u001b[0m\n\u001b[0m\u001b[1;32m     12\u001b[0m   \u001b[0mtest_step\u001b[0m\u001b[0;34m(\u001b[0m\u001b[0mmodel_1\u001b[0m\u001b[0;34m,\u001b[0m \u001b[0mtest_loader\u001b[0m\u001b[0;34m,\u001b[0m \u001b[0mloss_fn\u001b[0m\u001b[0;34m,\u001b[0m \u001b[0moptimizer\u001b[0m\u001b[0;34m,\u001b[0m \u001b[0maccuracy_fn\u001b[0m\u001b[0;34m,\u001b[0m \u001b[0mdevice\u001b[0m\u001b[0;34m)\u001b[0m\u001b[0;34m\u001b[0m\u001b[0;34m\u001b[0m\u001b[0m\n\u001b[1;32m     13\u001b[0m   state = {\n",
            "\u001b[0;31mNameError\u001b[0m: name 'model_1' is not defined"
          ]
        }
      ],
      "source": [
        "from tqdm.auto import tqdm\n",
        "torch.manual_seed(42)\n",
        "torch.cuda.manual_seed(42)\n",
        "\n",
        "from timeit import default_timer as timer\n",
        "train_time_start = timer()\n",
        "\n",
        "epochs = 6\n",
        "for epoch in tqdm(range(epochs)):\n",
        "  print(f\"Epoch: {epoch}\\n-------\")\n",
        "  train_step(model_1, train_loader, loss_fn, optimizer, accuracy_fn, device)\n",
        "  test_step(model_1, test_loader, loss_fn, optimizer, accuracy_fn, device)\n",
        "  state = {\n",
        "      'epoch': 3,\n",
        "      'state_dict': model_1.state_dict(),\n",
        "      'optimizer': optimizer.state_dict(),\n",
        "  }\n",
        "\n",
        "  torch.save(state, '/content/drive/MyDrive/galaxy_classifier/model_state')\n",
        "  del state\n",
        "  gc.collect()\n",
        "\n",
        "train_time_end = timer()\n",
        "time_elapsed = print_train_time(start=train_time_start, end=train_time_end, device=device)"
      ]
    }
  ],
  "metadata": {
    "accelerator": "GPU",
    "colab": {
      "machine_shape": "hm",
      "provenance": [],
      "include_colab_link": true
    },
    "kernelspec": {
      "display_name": "Python 3",
      "name": "python3"
    },
    "language_info": {
      "name": "python"
    },
    "widgets": {
      "application/vnd.jupyter.widget-state+json": {
        "087bbc5f285d40febfc6e65dd1c357f3": {
          "model_module": "@jupyter-widgets/controls",
          "model_module_version": "1.5.0",
          "model_name": "DescriptionStyleModel",
          "state": {
            "_model_module": "@jupyter-widgets/controls",
            "_model_module_version": "1.5.0",
            "_model_name": "DescriptionStyleModel",
            "_view_count": null,
            "_view_module": "@jupyter-widgets/base",
            "_view_module_version": "1.2.0",
            "_view_name": "StyleView",
            "description_width": ""
          }
        },
        "0b0063d55dcb426d99a5dea2bfb5e468": {
          "model_module": "@jupyter-widgets/base",
          "model_module_version": "1.2.0",
          "model_name": "LayoutModel",
          "state": {
            "_model_module": "@jupyter-widgets/base",
            "_model_module_version": "1.2.0",
            "_model_name": "LayoutModel",
            "_view_count": null,
            "_view_module": "@jupyter-widgets/base",
            "_view_module_version": "1.2.0",
            "_view_name": "LayoutView",
            "align_content": null,
            "align_items": null,
            "align_self": null,
            "border": null,
            "bottom": null,
            "display": null,
            "flex": null,
            "flex_flow": null,
            "grid_area": null,
            "grid_auto_columns": null,
            "grid_auto_flow": null,
            "grid_auto_rows": null,
            "grid_column": null,
            "grid_gap": null,
            "grid_row": null,
            "grid_template_areas": null,
            "grid_template_columns": null,
            "grid_template_rows": null,
            "height": null,
            "justify_content": null,
            "justify_items": null,
            "left": null,
            "margin": null,
            "max_height": null,
            "max_width": null,
            "min_height": null,
            "min_width": null,
            "object_fit": null,
            "object_position": null,
            "order": null,
            "overflow": null,
            "overflow_x": null,
            "overflow_y": null,
            "padding": null,
            "right": null,
            "top": null,
            "visibility": null,
            "width": null
          }
        },
        "1e1a43045b1f4945b21355ac5bdee65d": {
          "model_module": "@jupyter-widgets/controls",
          "model_module_version": "1.5.0",
          "model_name": "DescriptionStyleModel",
          "state": {
            "_model_module": "@jupyter-widgets/controls",
            "_model_module_version": "1.5.0",
            "_model_name": "DescriptionStyleModel",
            "_view_count": null,
            "_view_module": "@jupyter-widgets/base",
            "_view_module_version": "1.2.0",
            "_view_name": "StyleView",
            "description_width": ""
          }
        },
        "1fa8789a36c74175b5e2f2dba37c8116": {
          "model_module": "@jupyter-widgets/controls",
          "model_module_version": "1.5.0",
          "model_name": "HBoxModel",
          "state": {
            "_dom_classes": [],
            "_model_module": "@jupyter-widgets/controls",
            "_model_module_version": "1.5.0",
            "_model_name": "HBoxModel",
            "_view_count": null,
            "_view_module": "@jupyter-widgets/controls",
            "_view_module_version": "1.5.0",
            "_view_name": "HBoxView",
            "box_style": "",
            "children": [
              "IPY_MODEL_f1d05bd9b1214cfebfdbe31b488605c1",
              "IPY_MODEL_551bae98df424739be160cd51b6b31f2",
              "IPY_MODEL_5000536c5e204eeb8e93821ae29948f5"
            ],
            "layout": "IPY_MODEL_c5a703486dc5411dbf19b7e8731f250e"
          }
        },
        "23f5e3c120a44be29dc49f208988a21b": {
          "model_module": "@jupyter-widgets/controls",
          "model_module_version": "1.5.0",
          "model_name": "DescriptionStyleModel",
          "state": {
            "_model_module": "@jupyter-widgets/controls",
            "_model_module_version": "1.5.0",
            "_model_name": "DescriptionStyleModel",
            "_view_count": null,
            "_view_module": "@jupyter-widgets/base",
            "_view_module_version": "1.2.0",
            "_view_name": "StyleView",
            "description_width": ""
          }
        },
        "2466c9405c794c1bb5d452f52a067c3f": {
          "model_module": "@jupyter-widgets/controls",
          "model_module_version": "1.5.0",
          "model_name": "DescriptionStyleModel",
          "state": {
            "_model_module": "@jupyter-widgets/controls",
            "_model_module_version": "1.5.0",
            "_model_name": "DescriptionStyleModel",
            "_view_count": null,
            "_view_module": "@jupyter-widgets/base",
            "_view_module_version": "1.2.0",
            "_view_name": "StyleView",
            "description_width": ""
          }
        },
        "29b1a24fa1ea4480a357b2e635da911e": {
          "model_module": "@jupyter-widgets/base",
          "model_module_version": "1.2.0",
          "model_name": "LayoutModel",
          "state": {
            "_model_module": "@jupyter-widgets/base",
            "_model_module_version": "1.2.0",
            "_model_name": "LayoutModel",
            "_view_count": null,
            "_view_module": "@jupyter-widgets/base",
            "_view_module_version": "1.2.0",
            "_view_name": "LayoutView",
            "align_content": null,
            "align_items": null,
            "align_self": null,
            "border": null,
            "bottom": null,
            "display": null,
            "flex": null,
            "flex_flow": null,
            "grid_area": null,
            "grid_auto_columns": null,
            "grid_auto_flow": null,
            "grid_auto_rows": null,
            "grid_column": null,
            "grid_gap": null,
            "grid_row": null,
            "grid_template_areas": null,
            "grid_template_columns": null,
            "grid_template_rows": null,
            "height": null,
            "justify_content": null,
            "justify_items": null,
            "left": null,
            "margin": null,
            "max_height": null,
            "max_width": null,
            "min_height": null,
            "min_width": null,
            "object_fit": null,
            "object_position": null,
            "order": null,
            "overflow": null,
            "overflow_x": null,
            "overflow_y": null,
            "padding": null,
            "right": null,
            "top": null,
            "visibility": null,
            "width": null
          }
        },
        "2e2ac555caec45d9baf2f06b5d120af4": {
          "model_module": "@jupyter-widgets/controls",
          "model_module_version": "1.5.0",
          "model_name": "FloatProgressModel",
          "state": {
            "_dom_classes": [],
            "_model_module": "@jupyter-widgets/controls",
            "_model_module_version": "1.5.0",
            "_model_name": "FloatProgressModel",
            "_view_count": null,
            "_view_module": "@jupyter-widgets/controls",
            "_view_module_version": "1.5.0",
            "_view_name": "ProgressView",
            "bar_style": "danger",
            "description": "",
            "description_tooltip": null,
            "layout": "IPY_MODEL_29b1a24fa1ea4480a357b2e635da911e",
            "max": 6,
            "min": 0,
            "orientation": "horizontal",
            "style": "IPY_MODEL_d3f1f2f382c9403c99b64d310a3d4994",
            "value": 0
          }
        },
        "30e6b45722284594ab25749d3a32c8c7": {
          "model_module": "@jupyter-widgets/base",
          "model_module_version": "1.2.0",
          "model_name": "LayoutModel",
          "state": {
            "_model_module": "@jupyter-widgets/base",
            "_model_module_version": "1.2.0",
            "_model_name": "LayoutModel",
            "_view_count": null,
            "_view_module": "@jupyter-widgets/base",
            "_view_module_version": "1.2.0",
            "_view_name": "LayoutView",
            "align_content": null,
            "align_items": null,
            "align_self": null,
            "border": null,
            "bottom": null,
            "display": null,
            "flex": null,
            "flex_flow": null,
            "grid_area": null,
            "grid_auto_columns": null,
            "grid_auto_flow": null,
            "grid_auto_rows": null,
            "grid_column": null,
            "grid_gap": null,
            "grid_row": null,
            "grid_template_areas": null,
            "grid_template_columns": null,
            "grid_template_rows": null,
            "height": null,
            "justify_content": null,
            "justify_items": null,
            "left": null,
            "margin": null,
            "max_height": null,
            "max_width": null,
            "min_height": null,
            "min_width": null,
            "object_fit": null,
            "object_position": null,
            "order": null,
            "overflow": null,
            "overflow_x": null,
            "overflow_y": null,
            "padding": null,
            "right": null,
            "top": null,
            "visibility": null,
            "width": null
          }
        },
        "341c806997154a00836e2b9c887a6048": {
          "model_module": "@jupyter-widgets/controls",
          "model_module_version": "1.5.0",
          "model_name": "DescriptionStyleModel",
          "state": {
            "_model_module": "@jupyter-widgets/controls",
            "_model_module_version": "1.5.0",
            "_model_name": "DescriptionStyleModel",
            "_view_count": null,
            "_view_module": "@jupyter-widgets/base",
            "_view_module_version": "1.2.0",
            "_view_name": "StyleView",
            "description_width": ""
          }
        },
        "3478361811ea4938924f5ba2c39b4168": {
          "model_module": "@jupyter-widgets/base",
          "model_module_version": "1.2.0",
          "model_name": "LayoutModel",
          "state": {
            "_model_module": "@jupyter-widgets/base",
            "_model_module_version": "1.2.0",
            "_model_name": "LayoutModel",
            "_view_count": null,
            "_view_module": "@jupyter-widgets/base",
            "_view_module_version": "1.2.0",
            "_view_name": "LayoutView",
            "align_content": null,
            "align_items": null,
            "align_self": null,
            "border": null,
            "bottom": null,
            "display": null,
            "flex": null,
            "flex_flow": null,
            "grid_area": null,
            "grid_auto_columns": null,
            "grid_auto_flow": null,
            "grid_auto_rows": null,
            "grid_column": null,
            "grid_gap": null,
            "grid_row": null,
            "grid_template_areas": null,
            "grid_template_columns": null,
            "grid_template_rows": null,
            "height": null,
            "justify_content": null,
            "justify_items": null,
            "left": null,
            "margin": null,
            "max_height": null,
            "max_width": null,
            "min_height": null,
            "min_width": null,
            "object_fit": null,
            "object_position": null,
            "order": null,
            "overflow": null,
            "overflow_x": null,
            "overflow_y": null,
            "padding": null,
            "right": null,
            "top": null,
            "visibility": null,
            "width": "20px"
          }
        },
        "3b31d269c7d0449791eb0e59b6f19d88": {
          "model_module": "@jupyter-widgets/base",
          "model_module_version": "1.2.0",
          "model_name": "LayoutModel",
          "state": {
            "_model_module": "@jupyter-widgets/base",
            "_model_module_version": "1.2.0",
            "_model_name": "LayoutModel",
            "_view_count": null,
            "_view_module": "@jupyter-widgets/base",
            "_view_module_version": "1.2.0",
            "_view_name": "LayoutView",
            "align_content": null,
            "align_items": null,
            "align_self": null,
            "border": null,
            "bottom": null,
            "display": null,
            "flex": null,
            "flex_flow": null,
            "grid_area": null,
            "grid_auto_columns": null,
            "grid_auto_flow": null,
            "grid_auto_rows": null,
            "grid_column": null,
            "grid_gap": null,
            "grid_row": null,
            "grid_template_areas": null,
            "grid_template_columns": null,
            "grid_template_rows": null,
            "height": null,
            "justify_content": null,
            "justify_items": null,
            "left": null,
            "margin": null,
            "max_height": null,
            "max_width": null,
            "min_height": null,
            "min_width": null,
            "object_fit": null,
            "object_position": null,
            "order": null,
            "overflow": null,
            "overflow_x": null,
            "overflow_y": null,
            "padding": null,
            "right": null,
            "top": null,
            "visibility": null,
            "width": null
          }
        },
        "3c9c14e65524493d92864c12218e6348": {
          "model_module": "@jupyter-widgets/base",
          "model_module_version": "1.2.0",
          "model_name": "LayoutModel",
          "state": {
            "_model_module": "@jupyter-widgets/base",
            "_model_module_version": "1.2.0",
            "_model_name": "LayoutModel",
            "_view_count": null,
            "_view_module": "@jupyter-widgets/base",
            "_view_module_version": "1.2.0",
            "_view_name": "LayoutView",
            "align_content": null,
            "align_items": null,
            "align_self": null,
            "border": null,
            "bottom": null,
            "display": null,
            "flex": null,
            "flex_flow": null,
            "grid_area": null,
            "grid_auto_columns": null,
            "grid_auto_flow": null,
            "grid_auto_rows": null,
            "grid_column": null,
            "grid_gap": null,
            "grid_row": null,
            "grid_template_areas": null,
            "grid_template_columns": null,
            "grid_template_rows": null,
            "height": null,
            "justify_content": null,
            "justify_items": null,
            "left": null,
            "margin": null,
            "max_height": null,
            "max_width": null,
            "min_height": null,
            "min_width": null,
            "object_fit": null,
            "object_position": null,
            "order": null,
            "overflow": null,
            "overflow_x": null,
            "overflow_y": null,
            "padding": null,
            "right": null,
            "top": null,
            "visibility": null,
            "width": null
          }
        },
        "3f9c6ec07b664c2590758494978c086a": {
          "model_module": "@jupyter-widgets/base",
          "model_module_version": "1.2.0",
          "model_name": "LayoutModel",
          "state": {
            "_model_module": "@jupyter-widgets/base",
            "_model_module_version": "1.2.0",
            "_model_name": "LayoutModel",
            "_view_count": null,
            "_view_module": "@jupyter-widgets/base",
            "_view_module_version": "1.2.0",
            "_view_name": "LayoutView",
            "align_content": null,
            "align_items": null,
            "align_self": null,
            "border": null,
            "bottom": null,
            "display": null,
            "flex": null,
            "flex_flow": null,
            "grid_area": null,
            "grid_auto_columns": null,
            "grid_auto_flow": null,
            "grid_auto_rows": null,
            "grid_column": null,
            "grid_gap": null,
            "grid_row": null,
            "grid_template_areas": null,
            "grid_template_columns": null,
            "grid_template_rows": null,
            "height": null,
            "justify_content": null,
            "justify_items": null,
            "left": null,
            "margin": null,
            "max_height": null,
            "max_width": null,
            "min_height": null,
            "min_width": null,
            "object_fit": null,
            "object_position": null,
            "order": null,
            "overflow": null,
            "overflow_x": null,
            "overflow_y": null,
            "padding": null,
            "right": null,
            "top": null,
            "visibility": null,
            "width": null
          }
        },
        "43d0dab94c8b4fb685ea6031019e536f": {
          "model_module": "@jupyter-widgets/controls",
          "model_module_version": "1.5.0",
          "model_name": "FloatProgressModel",
          "state": {
            "_dom_classes": [],
            "_model_module": "@jupyter-widgets/controls",
            "_model_module_version": "1.5.0",
            "_model_name": "FloatProgressModel",
            "_view_count": null,
            "_view_module": "@jupyter-widgets/controls",
            "_view_module_version": "1.5.0",
            "_view_name": "ProgressView",
            "bar_style": "",
            "description": "",
            "description_tooltip": null,
            "layout": "IPY_MODEL_c40f0ec8fd4c44adbb5178aee644e233",
            "max": 3,
            "min": 0,
            "orientation": "horizontal",
            "style": "IPY_MODEL_f07506090f0c4979b9ba2e597ef8effa",
            "value": 0
          }
        },
        "5000536c5e204eeb8e93821ae29948f5": {
          "model_module": "@jupyter-widgets/controls",
          "model_module_version": "1.5.0",
          "model_name": "HTMLModel",
          "state": {
            "_dom_classes": [],
            "_model_module": "@jupyter-widgets/controls",
            "_model_module_version": "1.5.0",
            "_model_name": "HTMLModel",
            "_view_count": null,
            "_view_module": "@jupyter-widgets/controls",
            "_view_module_version": "1.5.0",
            "_view_name": "HTMLView",
            "description": "",
            "description_tooltip": null,
            "layout": "IPY_MODEL_686abaa6aaa644bca7ee5cc20badce6f",
            "placeholder": "​",
            "style": "IPY_MODEL_d14be532247b4007a413929d44d8b207",
            "value": " 0/4 [00:00&lt;?, ?it/s]"
          }
        },
        "50dc2bb2fc3f4e549713a6328eba3b7e": {
          "model_module": "@jupyter-widgets/controls",
          "model_module_version": "1.5.0",
          "model_name": "ProgressStyleModel",
          "state": {
            "_model_module": "@jupyter-widgets/controls",
            "_model_module_version": "1.5.0",
            "_model_name": "ProgressStyleModel",
            "_view_count": null,
            "_view_module": "@jupyter-widgets/base",
            "_view_module_version": "1.2.0",
            "_view_name": "StyleView",
            "bar_color": null,
            "description_width": ""
          }
        },
        "53becf6771b24a06a73f3e8bab80604b": {
          "model_module": "@jupyter-widgets/base",
          "model_module_version": "1.2.0",
          "model_name": "LayoutModel",
          "state": {
            "_model_module": "@jupyter-widgets/base",
            "_model_module_version": "1.2.0",
            "_model_name": "LayoutModel",
            "_view_count": null,
            "_view_module": "@jupyter-widgets/base",
            "_view_module_version": "1.2.0",
            "_view_name": "LayoutView",
            "align_content": null,
            "align_items": null,
            "align_self": null,
            "border": null,
            "bottom": null,
            "display": null,
            "flex": null,
            "flex_flow": null,
            "grid_area": null,
            "grid_auto_columns": null,
            "grid_auto_flow": null,
            "grid_auto_rows": null,
            "grid_column": null,
            "grid_gap": null,
            "grid_row": null,
            "grid_template_areas": null,
            "grid_template_columns": null,
            "grid_template_rows": null,
            "height": null,
            "justify_content": null,
            "justify_items": null,
            "left": null,
            "margin": null,
            "max_height": null,
            "max_width": null,
            "min_height": null,
            "min_width": null,
            "object_fit": null,
            "object_position": null,
            "order": null,
            "overflow": null,
            "overflow_x": null,
            "overflow_y": null,
            "padding": null,
            "right": null,
            "top": null,
            "visibility": null,
            "width": null
          }
        },
        "551bae98df424739be160cd51b6b31f2": {
          "model_module": "@jupyter-widgets/controls",
          "model_module_version": "1.5.0",
          "model_name": "FloatProgressModel",
          "state": {
            "_dom_classes": [],
            "_model_module": "@jupyter-widgets/controls",
            "_model_module_version": "1.5.0",
            "_model_name": "FloatProgressModel",
            "_view_count": null,
            "_view_module": "@jupyter-widgets/controls",
            "_view_module_version": "1.5.0",
            "_view_name": "ProgressView",
            "bar_style": "",
            "description": "",
            "description_tooltip": null,
            "layout": "IPY_MODEL_89c457d1c010494287e002e79948c30e",
            "max": 4,
            "min": 0,
            "orientation": "horizontal",
            "style": "IPY_MODEL_fe1c29300fa2497da4f2ac211eae5e9b",
            "value": 0
          }
        },
        "569c6c559f30449d9d573a23e541c0d9": {
          "model_module": "@jupyter-widgets/controls",
          "model_module_version": "1.5.0",
          "model_name": "HTMLModel",
          "state": {
            "_dom_classes": [],
            "_model_module": "@jupyter-widgets/controls",
            "_model_module_version": "1.5.0",
            "_model_name": "HTMLModel",
            "_view_count": null,
            "_view_module": "@jupyter-widgets/controls",
            "_view_module_version": "1.5.0",
            "_view_name": "HTMLView",
            "description": "",
            "description_tooltip": null,
            "layout": "IPY_MODEL_72d5032ab4de4673922461ce365fd83b",
            "placeholder": "​",
            "style": "IPY_MODEL_6366579086df4917a06d4e0d4693e6e8",
            "value": "  0%"
          }
        },
        "6366579086df4917a06d4e0d4693e6e8": {
          "model_module": "@jupyter-widgets/controls",
          "model_module_version": "1.5.0",
          "model_name": "DescriptionStyleModel",
          "state": {
            "_model_module": "@jupyter-widgets/controls",
            "_model_module_version": "1.5.0",
            "_model_name": "DescriptionStyleModel",
            "_view_count": null,
            "_view_module": "@jupyter-widgets/base",
            "_view_module_version": "1.2.0",
            "_view_name": "StyleView",
            "description_width": ""
          }
        },
        "686abaa6aaa644bca7ee5cc20badce6f": {
          "model_module": "@jupyter-widgets/base",
          "model_module_version": "1.2.0",
          "model_name": "LayoutModel",
          "state": {
            "_model_module": "@jupyter-widgets/base",
            "_model_module_version": "1.2.0",
            "_model_name": "LayoutModel",
            "_view_count": null,
            "_view_module": "@jupyter-widgets/base",
            "_view_module_version": "1.2.0",
            "_view_name": "LayoutView",
            "align_content": null,
            "align_items": null,
            "align_self": null,
            "border": null,
            "bottom": null,
            "display": null,
            "flex": null,
            "flex_flow": null,
            "grid_area": null,
            "grid_auto_columns": null,
            "grid_auto_flow": null,
            "grid_auto_rows": null,
            "grid_column": null,
            "grid_gap": null,
            "grid_row": null,
            "grid_template_areas": null,
            "grid_template_columns": null,
            "grid_template_rows": null,
            "height": null,
            "justify_content": null,
            "justify_items": null,
            "left": null,
            "margin": null,
            "max_height": null,
            "max_width": null,
            "min_height": null,
            "min_width": null,
            "object_fit": null,
            "object_position": null,
            "order": null,
            "overflow": null,
            "overflow_x": null,
            "overflow_y": null,
            "padding": null,
            "right": null,
            "top": null,
            "visibility": null,
            "width": null
          }
        },
        "6d984d2da8c442eeb9a805b70805e19b": {
          "model_module": "@jupyter-widgets/controls",
          "model_module_version": "1.5.0",
          "model_name": "HTMLModel",
          "state": {
            "_dom_classes": [],
            "_model_module": "@jupyter-widgets/controls",
            "_model_module_version": "1.5.0",
            "_model_name": "HTMLModel",
            "_view_count": null,
            "_view_module": "@jupyter-widgets/controls",
            "_view_module_version": "1.5.0",
            "_view_name": "HTMLView",
            "description": "",
            "description_tooltip": null,
            "layout": "IPY_MODEL_fd3db9718cbf4bb5b6a7cd19baa39884",
            "placeholder": "​",
            "style": "IPY_MODEL_2466c9405c794c1bb5d452f52a067c3f",
            "value": " 4981/? [1:04:41&lt;00:00,  1.28it/s]"
          }
        },
        "72d5032ab4de4673922461ce365fd83b": {
          "model_module": "@jupyter-widgets/base",
          "model_module_version": "1.2.0",
          "model_name": "LayoutModel",
          "state": {
            "_model_module": "@jupyter-widgets/base",
            "_model_module_version": "1.2.0",
            "_model_name": "LayoutModel",
            "_view_count": null,
            "_view_module": "@jupyter-widgets/base",
            "_view_module_version": "1.2.0",
            "_view_name": "LayoutView",
            "align_content": null,
            "align_items": null,
            "align_self": null,
            "border": null,
            "bottom": null,
            "display": null,
            "flex": null,
            "flex_flow": null,
            "grid_area": null,
            "grid_auto_columns": null,
            "grid_auto_flow": null,
            "grid_auto_rows": null,
            "grid_column": null,
            "grid_gap": null,
            "grid_row": null,
            "grid_template_areas": null,
            "grid_template_columns": null,
            "grid_template_rows": null,
            "height": null,
            "justify_content": null,
            "justify_items": null,
            "left": null,
            "margin": null,
            "max_height": null,
            "max_width": null,
            "min_height": null,
            "min_width": null,
            "object_fit": null,
            "object_position": null,
            "order": null,
            "overflow": null,
            "overflow_x": null,
            "overflow_y": null,
            "padding": null,
            "right": null,
            "top": null,
            "visibility": null,
            "width": null
          }
        },
        "76cb3d8d47964f4b8fbc927561f0ba5f": {
          "model_module": "@jupyter-widgets/controls",
          "model_module_version": "1.5.0",
          "model_name": "DescriptionStyleModel",
          "state": {
            "_model_module": "@jupyter-widgets/controls",
            "_model_module_version": "1.5.0",
            "_model_name": "DescriptionStyleModel",
            "_view_count": null,
            "_view_module": "@jupyter-widgets/base",
            "_view_module_version": "1.2.0",
            "_view_name": "StyleView",
            "description_width": ""
          }
        },
        "7fd5a925c531451986d26dd2b5c79540": {
          "model_module": "@jupyter-widgets/controls",
          "model_module_version": "1.5.0",
          "model_name": "FloatProgressModel",
          "state": {
            "_dom_classes": [],
            "_model_module": "@jupyter-widgets/controls",
            "_model_module_version": "1.5.0",
            "_model_name": "FloatProgressModel",
            "_view_count": null,
            "_view_module": "@jupyter-widgets/controls",
            "_view_module_version": "1.5.0",
            "_view_name": "ProgressView",
            "bar_style": "info",
            "description": "",
            "description_tooltip": null,
            "layout": "IPY_MODEL_b1e39a6b959145049821d1de6f88d91c",
            "max": 1,
            "min": 0,
            "orientation": "horizontal",
            "style": "IPY_MODEL_9e5ae45f9a724b34a7458fa5265e6e27",
            "value": 1
          }
        },
        "82a0e97c05ac4678b30d34d7b39b543b": {
          "model_module": "@jupyter-widgets/controls",
          "model_module_version": "1.5.0",
          "model_name": "HTMLModel",
          "state": {
            "_dom_classes": [],
            "_model_module": "@jupyter-widgets/controls",
            "_model_module_version": "1.5.0",
            "_model_name": "HTMLModel",
            "_view_count": null,
            "_view_module": "@jupyter-widgets/controls",
            "_view_module_version": "1.5.0",
            "_view_name": "HTMLView",
            "description": "",
            "description_tooltip": null,
            "layout": "IPY_MODEL_3b31d269c7d0449791eb0e59b6f19d88",
            "placeholder": "​",
            "style": "IPY_MODEL_1e1a43045b1f4945b21355ac5bdee65d",
            "value": " 0/6 [00:00&lt;?, ?it/s]"
          }
        },
        "84de10ded7634f7d903fd8c5a39c4795": {
          "model_module": "@jupyter-widgets/controls",
          "model_module_version": "1.5.0",
          "model_name": "HBoxModel",
          "state": {
            "_dom_classes": [],
            "_model_module": "@jupyter-widgets/controls",
            "_model_module_version": "1.5.0",
            "_model_name": "HBoxModel",
            "_view_count": null,
            "_view_module": "@jupyter-widgets/controls",
            "_view_module_version": "1.5.0",
            "_view_name": "HBoxView",
            "box_style": "",
            "children": [
              "IPY_MODEL_569c6c559f30449d9d573a23e541c0d9",
              "IPY_MODEL_2e2ac555caec45d9baf2f06b5d120af4",
              "IPY_MODEL_82a0e97c05ac4678b30d34d7b39b543b"
            ],
            "layout": "IPY_MODEL_bc2411369e7d41f09eab7696dbbda19a"
          }
        },
        "89c457d1c010494287e002e79948c30e": {
          "model_module": "@jupyter-widgets/base",
          "model_module_version": "1.2.0",
          "model_name": "LayoutModel",
          "state": {
            "_model_module": "@jupyter-widgets/base",
            "_model_module_version": "1.2.0",
            "_model_name": "LayoutModel",
            "_view_count": null,
            "_view_module": "@jupyter-widgets/base",
            "_view_module_version": "1.2.0",
            "_view_name": "LayoutView",
            "align_content": null,
            "align_items": null,
            "align_self": null,
            "border": null,
            "bottom": null,
            "display": null,
            "flex": null,
            "flex_flow": null,
            "grid_area": null,
            "grid_auto_columns": null,
            "grid_auto_flow": null,
            "grid_auto_rows": null,
            "grid_column": null,
            "grid_gap": null,
            "grid_row": null,
            "grid_template_areas": null,
            "grid_template_columns": null,
            "grid_template_rows": null,
            "height": null,
            "justify_content": null,
            "justify_items": null,
            "left": null,
            "margin": null,
            "max_height": null,
            "max_width": null,
            "min_height": null,
            "min_width": null,
            "object_fit": null,
            "object_position": null,
            "order": null,
            "overflow": null,
            "overflow_x": null,
            "overflow_y": null,
            "padding": null,
            "right": null,
            "top": null,
            "visibility": null,
            "width": null
          }
        },
        "924d19fedfb94003b39710a4948c9db3": {
          "model_module": "@jupyter-widgets/controls",
          "model_module_version": "1.5.0",
          "model_name": "FloatProgressModel",
          "state": {
            "_dom_classes": [],
            "_model_module": "@jupyter-widgets/controls",
            "_model_module_version": "1.5.0",
            "_model_name": "FloatProgressModel",
            "_view_count": null,
            "_view_module": "@jupyter-widgets/controls",
            "_view_module_version": "1.5.0",
            "_view_name": "ProgressView",
            "bar_style": "info",
            "description": "",
            "description_tooltip": null,
            "layout": "IPY_MODEL_3478361811ea4938924f5ba2c39b4168",
            "max": 1,
            "min": 0,
            "orientation": "horizontal",
            "style": "IPY_MODEL_50dc2bb2fc3f4e549713a6328eba3b7e",
            "value": 1
          }
        },
        "9c8046f59924481d85b4fccace551711": {
          "model_module": "@jupyter-widgets/controls",
          "model_module_version": "1.5.0",
          "model_name": "HTMLModel",
          "state": {
            "_dom_classes": [],
            "_model_module": "@jupyter-widgets/controls",
            "_model_module_version": "1.5.0",
            "_model_name": "HTMLModel",
            "_view_count": null,
            "_view_module": "@jupyter-widgets/controls",
            "_view_module_version": "1.5.0",
            "_view_name": "HTMLView",
            "description": "",
            "description_tooltip": null,
            "layout": "IPY_MODEL_53becf6771b24a06a73f3e8bab80604b",
            "placeholder": "​",
            "style": "IPY_MODEL_76cb3d8d47964f4b8fbc927561f0ba5f",
            "value": ""
          }
        },
        "9c9df078a6d64f71a2e177cee02ed5c0": {
          "model_module": "@jupyter-widgets/base",
          "model_module_version": "1.2.0",
          "model_name": "LayoutModel",
          "state": {
            "_model_module": "@jupyter-widgets/base",
            "_model_module_version": "1.2.0",
            "_model_name": "LayoutModel",
            "_view_count": null,
            "_view_module": "@jupyter-widgets/base",
            "_view_module_version": "1.2.0",
            "_view_name": "LayoutView",
            "align_content": null,
            "align_items": null,
            "align_self": null,
            "border": null,
            "bottom": null,
            "display": null,
            "flex": null,
            "flex_flow": null,
            "grid_area": null,
            "grid_auto_columns": null,
            "grid_auto_flow": null,
            "grid_auto_rows": null,
            "grid_column": null,
            "grid_gap": null,
            "grid_row": null,
            "grid_template_areas": null,
            "grid_template_columns": null,
            "grid_template_rows": null,
            "height": null,
            "justify_content": null,
            "justify_items": null,
            "left": null,
            "margin": null,
            "max_height": null,
            "max_width": null,
            "min_height": null,
            "min_width": null,
            "object_fit": null,
            "object_position": null,
            "order": null,
            "overflow": null,
            "overflow_x": null,
            "overflow_y": null,
            "padding": null,
            "right": null,
            "top": null,
            "visibility": null,
            "width": null
          }
        },
        "9e5ae45f9a724b34a7458fa5265e6e27": {
          "model_module": "@jupyter-widgets/controls",
          "model_module_version": "1.5.0",
          "model_name": "ProgressStyleModel",
          "state": {
            "_model_module": "@jupyter-widgets/controls",
            "_model_module_version": "1.5.0",
            "_model_name": "ProgressStyleModel",
            "_view_count": null,
            "_view_module": "@jupyter-widgets/base",
            "_view_module_version": "1.2.0",
            "_view_name": "StyleView",
            "bar_color": null,
            "description_width": ""
          }
        },
        "a96e92663f134008bf34b0d239459a33": {
          "model_module": "@jupyter-widgets/controls",
          "model_module_version": "1.5.0",
          "model_name": "HTMLModel",
          "state": {
            "_dom_classes": [],
            "_model_module": "@jupyter-widgets/controls",
            "_model_module_version": "1.5.0",
            "_model_name": "HTMLModel",
            "_view_count": null,
            "_view_module": "@jupyter-widgets/controls",
            "_view_module_version": "1.5.0",
            "_view_name": "HTMLView",
            "description": "",
            "description_tooltip": null,
            "layout": "IPY_MODEL_9c9df078a6d64f71a2e177cee02ed5c0",
            "placeholder": "​",
            "style": "IPY_MODEL_dbd0fc1d9b124cd7abbff029e1bf0eb6",
            "value": " 0/3 [00:00&lt;?, ?it/s]"
          }
        },
        "af54bff083484ad8a36d2d11080908fd": {
          "model_module": "@jupyter-widgets/controls",
          "model_module_version": "1.5.0",
          "model_name": "HBoxModel",
          "state": {
            "_dom_classes": [],
            "_model_module": "@jupyter-widgets/controls",
            "_model_module_version": "1.5.0",
            "_model_name": "HBoxModel",
            "_view_count": null,
            "_view_module": "@jupyter-widgets/controls",
            "_view_module_version": "1.5.0",
            "_view_name": "HBoxView",
            "box_style": "",
            "children": [
              "IPY_MODEL_9c8046f59924481d85b4fccace551711",
              "IPY_MODEL_7fd5a925c531451986d26dd2b5c79540",
              "IPY_MODEL_6d984d2da8c442eeb9a805b70805e19b"
            ],
            "layout": "IPY_MODEL_b0ff64c269404a34965d96c27489454a"
          }
        },
        "b0ff64c269404a34965d96c27489454a": {
          "model_module": "@jupyter-widgets/base",
          "model_module_version": "1.2.0",
          "model_name": "LayoutModel",
          "state": {
            "_model_module": "@jupyter-widgets/base",
            "_model_module_version": "1.2.0",
            "_model_name": "LayoutModel",
            "_view_count": null,
            "_view_module": "@jupyter-widgets/base",
            "_view_module_version": "1.2.0",
            "_view_name": "LayoutView",
            "align_content": null,
            "align_items": null,
            "align_self": null,
            "border": null,
            "bottom": null,
            "display": null,
            "flex": null,
            "flex_flow": null,
            "grid_area": null,
            "grid_auto_columns": null,
            "grid_auto_flow": null,
            "grid_auto_rows": null,
            "grid_column": null,
            "grid_gap": null,
            "grid_row": null,
            "grid_template_areas": null,
            "grid_template_columns": null,
            "grid_template_rows": null,
            "height": null,
            "justify_content": null,
            "justify_items": null,
            "left": null,
            "margin": null,
            "max_height": null,
            "max_width": null,
            "min_height": null,
            "min_width": null,
            "object_fit": null,
            "object_position": null,
            "order": null,
            "overflow": null,
            "overflow_x": null,
            "overflow_y": null,
            "padding": null,
            "right": null,
            "top": null,
            "visibility": null,
            "width": null
          }
        },
        "b1e39a6b959145049821d1de6f88d91c": {
          "model_module": "@jupyter-widgets/base",
          "model_module_version": "1.2.0",
          "model_name": "LayoutModel",
          "state": {
            "_model_module": "@jupyter-widgets/base",
            "_model_module_version": "1.2.0",
            "_model_name": "LayoutModel",
            "_view_count": null,
            "_view_module": "@jupyter-widgets/base",
            "_view_module_version": "1.2.0",
            "_view_name": "LayoutView",
            "align_content": null,
            "align_items": null,
            "align_self": null,
            "border": null,
            "bottom": null,
            "display": null,
            "flex": null,
            "flex_flow": null,
            "grid_area": null,
            "grid_auto_columns": null,
            "grid_auto_flow": null,
            "grid_auto_rows": null,
            "grid_column": null,
            "grid_gap": null,
            "grid_row": null,
            "grid_template_areas": null,
            "grid_template_columns": null,
            "grid_template_rows": null,
            "height": null,
            "justify_content": null,
            "justify_items": null,
            "left": null,
            "margin": null,
            "max_height": null,
            "max_width": null,
            "min_height": null,
            "min_width": null,
            "object_fit": null,
            "object_position": null,
            "order": null,
            "overflow": null,
            "overflow_x": null,
            "overflow_y": null,
            "padding": null,
            "right": null,
            "top": null,
            "visibility": null,
            "width": "20px"
          }
        },
        "b1ff26a7d45d457aaa83f209c6c2ef59": {
          "model_module": "@jupyter-widgets/controls",
          "model_module_version": "1.5.0",
          "model_name": "HBoxModel",
          "state": {
            "_dom_classes": [],
            "_model_module": "@jupyter-widgets/controls",
            "_model_module_version": "1.5.0",
            "_model_name": "HBoxModel",
            "_view_count": null,
            "_view_module": "@jupyter-widgets/controls",
            "_view_module_version": "1.5.0",
            "_view_name": "HBoxView",
            "box_style": "",
            "children": [
              "IPY_MODEL_c14cd087d94b45b6b3c639ebb74271f7",
              "IPY_MODEL_924d19fedfb94003b39710a4948c9db3",
              "IPY_MODEL_c6984472e56e456ba76eba23e879a147"
            ],
            "layout": "IPY_MODEL_3c9c14e65524493d92864c12218e6348"
          }
        },
        "bc2411369e7d41f09eab7696dbbda19a": {
          "model_module": "@jupyter-widgets/base",
          "model_module_version": "1.2.0",
          "model_name": "LayoutModel",
          "state": {
            "_model_module": "@jupyter-widgets/base",
            "_model_module_version": "1.2.0",
            "_model_name": "LayoutModel",
            "_view_count": null,
            "_view_module": "@jupyter-widgets/base",
            "_view_module_version": "1.2.0",
            "_view_name": "LayoutView",
            "align_content": null,
            "align_items": null,
            "align_self": null,
            "border": null,
            "bottom": null,
            "display": null,
            "flex": null,
            "flex_flow": null,
            "grid_area": null,
            "grid_auto_columns": null,
            "grid_auto_flow": null,
            "grid_auto_rows": null,
            "grid_column": null,
            "grid_gap": null,
            "grid_row": null,
            "grid_template_areas": null,
            "grid_template_columns": null,
            "grid_template_rows": null,
            "height": null,
            "justify_content": null,
            "justify_items": null,
            "left": null,
            "margin": null,
            "max_height": null,
            "max_width": null,
            "min_height": null,
            "min_width": null,
            "object_fit": null,
            "object_position": null,
            "order": null,
            "overflow": null,
            "overflow_x": null,
            "overflow_y": null,
            "padding": null,
            "right": null,
            "top": null,
            "visibility": null,
            "width": null
          }
        },
        "c14cd087d94b45b6b3c639ebb74271f7": {
          "model_module": "@jupyter-widgets/controls",
          "model_module_version": "1.5.0",
          "model_name": "HTMLModel",
          "state": {
            "_dom_classes": [],
            "_model_module": "@jupyter-widgets/controls",
            "_model_module_version": "1.5.0",
            "_model_name": "HTMLModel",
            "_view_count": null,
            "_view_module": "@jupyter-widgets/controls",
            "_view_module_version": "1.5.0",
            "_view_name": "HTMLView",
            "description": "",
            "description_tooltip": null,
            "layout": "IPY_MODEL_30e6b45722284594ab25749d3a32c8c7",
            "placeholder": "​",
            "style": "IPY_MODEL_d7e71e63246949b4aa9ffb0b8922a87c",
            "value": ""
          }
        },
        "c40f0ec8fd4c44adbb5178aee644e233": {
          "model_module": "@jupyter-widgets/base",
          "model_module_version": "1.2.0",
          "model_name": "LayoutModel",
          "state": {
            "_model_module": "@jupyter-widgets/base",
            "_model_module_version": "1.2.0",
            "_model_name": "LayoutModel",
            "_view_count": null,
            "_view_module": "@jupyter-widgets/base",
            "_view_module_version": "1.2.0",
            "_view_name": "LayoutView",
            "align_content": null,
            "align_items": null,
            "align_self": null,
            "border": null,
            "bottom": null,
            "display": null,
            "flex": null,
            "flex_flow": null,
            "grid_area": null,
            "grid_auto_columns": null,
            "grid_auto_flow": null,
            "grid_auto_rows": null,
            "grid_column": null,
            "grid_gap": null,
            "grid_row": null,
            "grid_template_areas": null,
            "grid_template_columns": null,
            "grid_template_rows": null,
            "height": null,
            "justify_content": null,
            "justify_items": null,
            "left": null,
            "margin": null,
            "max_height": null,
            "max_width": null,
            "min_height": null,
            "min_width": null,
            "object_fit": null,
            "object_position": null,
            "order": null,
            "overflow": null,
            "overflow_x": null,
            "overflow_y": null,
            "padding": null,
            "right": null,
            "top": null,
            "visibility": null,
            "width": null
          }
        },
        "c5a703486dc5411dbf19b7e8731f250e": {
          "model_module": "@jupyter-widgets/base",
          "model_module_version": "1.2.0",
          "model_name": "LayoutModel",
          "state": {
            "_model_module": "@jupyter-widgets/base",
            "_model_module_version": "1.2.0",
            "_model_name": "LayoutModel",
            "_view_count": null,
            "_view_module": "@jupyter-widgets/base",
            "_view_module_version": "1.2.0",
            "_view_name": "LayoutView",
            "align_content": null,
            "align_items": null,
            "align_self": null,
            "border": null,
            "bottom": null,
            "display": null,
            "flex": null,
            "flex_flow": null,
            "grid_area": null,
            "grid_auto_columns": null,
            "grid_auto_flow": null,
            "grid_auto_rows": null,
            "grid_column": null,
            "grid_gap": null,
            "grid_row": null,
            "grid_template_areas": null,
            "grid_template_columns": null,
            "grid_template_rows": null,
            "height": null,
            "justify_content": null,
            "justify_items": null,
            "left": null,
            "margin": null,
            "max_height": null,
            "max_width": null,
            "min_height": null,
            "min_width": null,
            "object_fit": null,
            "object_position": null,
            "order": null,
            "overflow": null,
            "overflow_x": null,
            "overflow_y": null,
            "padding": null,
            "right": null,
            "top": null,
            "visibility": null,
            "width": null
          }
        },
        "c6984472e56e456ba76eba23e879a147": {
          "model_module": "@jupyter-widgets/controls",
          "model_module_version": "1.5.0",
          "model_name": "HTMLModel",
          "state": {
            "_dom_classes": [],
            "_model_module": "@jupyter-widgets/controls",
            "_model_module_version": "1.5.0",
            "_model_name": "HTMLModel",
            "_view_count": null,
            "_view_module": "@jupyter-widgets/controls",
            "_view_module_version": "1.5.0",
            "_view_name": "HTMLView",
            "description": "",
            "description_tooltip": null,
            "layout": "IPY_MODEL_de994d2f04f540939f689144af9d4c71",
            "placeholder": "​",
            "style": "IPY_MODEL_23f5e3c120a44be29dc49f208988a21b",
            "value": " 5366/? [4:39:13&lt;00:00,  3.91s/it]"
          }
        },
        "d14be532247b4007a413929d44d8b207": {
          "model_module": "@jupyter-widgets/controls",
          "model_module_version": "1.5.0",
          "model_name": "DescriptionStyleModel",
          "state": {
            "_model_module": "@jupyter-widgets/controls",
            "_model_module_version": "1.5.0",
            "_model_name": "DescriptionStyleModel",
            "_view_count": null,
            "_view_module": "@jupyter-widgets/base",
            "_view_module_version": "1.2.0",
            "_view_name": "StyleView",
            "description_width": ""
          }
        },
        "d3f1f2f382c9403c99b64d310a3d4994": {
          "model_module": "@jupyter-widgets/controls",
          "model_module_version": "1.5.0",
          "model_name": "ProgressStyleModel",
          "state": {
            "_model_module": "@jupyter-widgets/controls",
            "_model_module_version": "1.5.0",
            "_model_name": "ProgressStyleModel",
            "_view_count": null,
            "_view_module": "@jupyter-widgets/base",
            "_view_module_version": "1.2.0",
            "_view_name": "StyleView",
            "bar_color": null,
            "description_width": ""
          }
        },
        "d54f3cca28f44139b7f937b1961d0bdd": {
          "model_module": "@jupyter-widgets/controls",
          "model_module_version": "1.5.0",
          "model_name": "HTMLModel",
          "state": {
            "_dom_classes": [],
            "_model_module": "@jupyter-widgets/controls",
            "_model_module_version": "1.5.0",
            "_model_name": "HTMLModel",
            "_view_count": null,
            "_view_module": "@jupyter-widgets/controls",
            "_view_module_version": "1.5.0",
            "_view_name": "HTMLView",
            "description": "",
            "description_tooltip": null,
            "layout": "IPY_MODEL_df08193ec7bc4da3ae527fa1864016f1",
            "placeholder": "​",
            "style": "IPY_MODEL_341c806997154a00836e2b9c887a6048",
            "value": "  0%"
          }
        },
        "d7e71e63246949b4aa9ffb0b8922a87c": {
          "model_module": "@jupyter-widgets/controls",
          "model_module_version": "1.5.0",
          "model_name": "DescriptionStyleModel",
          "state": {
            "_model_module": "@jupyter-widgets/controls",
            "_model_module_version": "1.5.0",
            "_model_name": "DescriptionStyleModel",
            "_view_count": null,
            "_view_module": "@jupyter-widgets/base",
            "_view_module_version": "1.2.0",
            "_view_name": "StyleView",
            "description_width": ""
          }
        },
        "dbd0fc1d9b124cd7abbff029e1bf0eb6": {
          "model_module": "@jupyter-widgets/controls",
          "model_module_version": "1.5.0",
          "model_name": "DescriptionStyleModel",
          "state": {
            "_model_module": "@jupyter-widgets/controls",
            "_model_module_version": "1.5.0",
            "_model_name": "DescriptionStyleModel",
            "_view_count": null,
            "_view_module": "@jupyter-widgets/base",
            "_view_module_version": "1.2.0",
            "_view_name": "StyleView",
            "description_width": ""
          }
        },
        "de994d2f04f540939f689144af9d4c71": {
          "model_module": "@jupyter-widgets/base",
          "model_module_version": "1.2.0",
          "model_name": "LayoutModel",
          "state": {
            "_model_module": "@jupyter-widgets/base",
            "_model_module_version": "1.2.0",
            "_model_name": "LayoutModel",
            "_view_count": null,
            "_view_module": "@jupyter-widgets/base",
            "_view_module_version": "1.2.0",
            "_view_name": "LayoutView",
            "align_content": null,
            "align_items": null,
            "align_self": null,
            "border": null,
            "bottom": null,
            "display": null,
            "flex": null,
            "flex_flow": null,
            "grid_area": null,
            "grid_auto_columns": null,
            "grid_auto_flow": null,
            "grid_auto_rows": null,
            "grid_column": null,
            "grid_gap": null,
            "grid_row": null,
            "grid_template_areas": null,
            "grid_template_columns": null,
            "grid_template_rows": null,
            "height": null,
            "justify_content": null,
            "justify_items": null,
            "left": null,
            "margin": null,
            "max_height": null,
            "max_width": null,
            "min_height": null,
            "min_width": null,
            "object_fit": null,
            "object_position": null,
            "order": null,
            "overflow": null,
            "overflow_x": null,
            "overflow_y": null,
            "padding": null,
            "right": null,
            "top": null,
            "visibility": null,
            "width": null
          }
        },
        "df08193ec7bc4da3ae527fa1864016f1": {
          "model_module": "@jupyter-widgets/base",
          "model_module_version": "1.2.0",
          "model_name": "LayoutModel",
          "state": {
            "_model_module": "@jupyter-widgets/base",
            "_model_module_version": "1.2.0",
            "_model_name": "LayoutModel",
            "_view_count": null,
            "_view_module": "@jupyter-widgets/base",
            "_view_module_version": "1.2.0",
            "_view_name": "LayoutView",
            "align_content": null,
            "align_items": null,
            "align_self": null,
            "border": null,
            "bottom": null,
            "display": null,
            "flex": null,
            "flex_flow": null,
            "grid_area": null,
            "grid_auto_columns": null,
            "grid_auto_flow": null,
            "grid_auto_rows": null,
            "grid_column": null,
            "grid_gap": null,
            "grid_row": null,
            "grid_template_areas": null,
            "grid_template_columns": null,
            "grid_template_rows": null,
            "height": null,
            "justify_content": null,
            "justify_items": null,
            "left": null,
            "margin": null,
            "max_height": null,
            "max_width": null,
            "min_height": null,
            "min_width": null,
            "object_fit": null,
            "object_position": null,
            "order": null,
            "overflow": null,
            "overflow_x": null,
            "overflow_y": null,
            "padding": null,
            "right": null,
            "top": null,
            "visibility": null,
            "width": null
          }
        },
        "e4a26154d4dd42d8a242e3de71913a64": {
          "model_module": "@jupyter-widgets/controls",
          "model_module_version": "1.5.0",
          "model_name": "HBoxModel",
          "state": {
            "_dom_classes": [],
            "_model_module": "@jupyter-widgets/controls",
            "_model_module_version": "1.5.0",
            "_model_name": "HBoxModel",
            "_view_count": null,
            "_view_module": "@jupyter-widgets/controls",
            "_view_module_version": "1.5.0",
            "_view_name": "HBoxView",
            "box_style": "",
            "children": [
              "IPY_MODEL_d54f3cca28f44139b7f937b1961d0bdd",
              "IPY_MODEL_43d0dab94c8b4fb685ea6031019e536f",
              "IPY_MODEL_a96e92663f134008bf34b0d239459a33"
            ],
            "layout": "IPY_MODEL_0b0063d55dcb426d99a5dea2bfb5e468"
          }
        },
        "f07506090f0c4979b9ba2e597ef8effa": {
          "model_module": "@jupyter-widgets/controls",
          "model_module_version": "1.5.0",
          "model_name": "ProgressStyleModel",
          "state": {
            "_model_module": "@jupyter-widgets/controls",
            "_model_module_version": "1.5.0",
            "_model_name": "ProgressStyleModel",
            "_view_count": null,
            "_view_module": "@jupyter-widgets/base",
            "_view_module_version": "1.2.0",
            "_view_name": "StyleView",
            "bar_color": null,
            "description_width": ""
          }
        },
        "f1d05bd9b1214cfebfdbe31b488605c1": {
          "model_module": "@jupyter-widgets/controls",
          "model_module_version": "1.5.0",
          "model_name": "HTMLModel",
          "state": {
            "_dom_classes": [],
            "_model_module": "@jupyter-widgets/controls",
            "_model_module_version": "1.5.0",
            "_model_name": "HTMLModel",
            "_view_count": null,
            "_view_module": "@jupyter-widgets/controls",
            "_view_module_version": "1.5.0",
            "_view_name": "HTMLView",
            "description": "",
            "description_tooltip": null,
            "layout": "IPY_MODEL_3f9c6ec07b664c2590758494978c086a",
            "placeholder": "​",
            "style": "IPY_MODEL_087bbc5f285d40febfc6e65dd1c357f3",
            "value": "  0%"
          }
        },
        "fd3db9718cbf4bb5b6a7cd19baa39884": {
          "model_module": "@jupyter-widgets/base",
          "model_module_version": "1.2.0",
          "model_name": "LayoutModel",
          "state": {
            "_model_module": "@jupyter-widgets/base",
            "_model_module_version": "1.2.0",
            "_model_name": "LayoutModel",
            "_view_count": null,
            "_view_module": "@jupyter-widgets/base",
            "_view_module_version": "1.2.0",
            "_view_name": "LayoutView",
            "align_content": null,
            "align_items": null,
            "align_self": null,
            "border": null,
            "bottom": null,
            "display": null,
            "flex": null,
            "flex_flow": null,
            "grid_area": null,
            "grid_auto_columns": null,
            "grid_auto_flow": null,
            "grid_auto_rows": null,
            "grid_column": null,
            "grid_gap": null,
            "grid_row": null,
            "grid_template_areas": null,
            "grid_template_columns": null,
            "grid_template_rows": null,
            "height": null,
            "justify_content": null,
            "justify_items": null,
            "left": null,
            "margin": null,
            "max_height": null,
            "max_width": null,
            "min_height": null,
            "min_width": null,
            "object_fit": null,
            "object_position": null,
            "order": null,
            "overflow": null,
            "overflow_x": null,
            "overflow_y": null,
            "padding": null,
            "right": null,
            "top": null,
            "visibility": null,
            "width": null
          }
        },
        "fe1c29300fa2497da4f2ac211eae5e9b": {
          "model_module": "@jupyter-widgets/controls",
          "model_module_version": "1.5.0",
          "model_name": "ProgressStyleModel",
          "state": {
            "_model_module": "@jupyter-widgets/controls",
            "_model_module_version": "1.5.0",
            "_model_name": "ProgressStyleModel",
            "_view_count": null,
            "_view_module": "@jupyter-widgets/base",
            "_view_module_version": "1.2.0",
            "_view_name": "StyleView",
            "bar_color": null,
            "description_width": ""
          }
        }
      }
    }
  },
  "nbformat": 4,
  "nbformat_minor": 0
}